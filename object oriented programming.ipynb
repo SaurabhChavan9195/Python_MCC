{
 "cells": [
  {
   "cell_type": "code",
   "execution_count": 5,
   "metadata": {},
   "outputs": [
    {
     "name": "stdout",
     "output_type": "stream",
     "text": [
      "Name: saurabh Gender: Male Profession:  Full stack Developer\n",
      "saurabh is Working as an Full stack Developer in Google\n"
     ]
    }
   ],
   "source": [
    "class Person:\n",
    "    def __init__(self, name, gender,profession, company):\n",
    "        self.name=name\n",
    "        self.gender=gender\n",
    "        self.profession=profession\n",
    "        self.company=company\n",
    "    \n",
    "    def details(self):\n",
    "        print(\"Name:\",self.name , \"Gender:\", self.gender, \"Profession: \", self.profession)\n",
    "        \n",
    "    def working(self):\n",
    "        print(self.name , \"is Working as an\" , self.profession , \"in\" ,self.company)\n",
    "        \n",
    "obj=Person(\"saurabh\",\"Male\",\"Full stack Developer\" ,\"Google\")\n",
    "\n",
    "obj.details()\n",
    "obj.working()"
   ]
  },
  {
   "cell_type": "code",
   "execution_count": 16,
   "metadata": {},
   "outputs": [
    {
     "name": "stdout",
     "output_type": "stream",
     "text": [
      "School name: Mumbai Coding Club\n",
      "Student: Fatima Female 45\n",
      "School name: XYZ School\n"
     ]
    }
   ],
   "source": [
    "class Person:\n",
    "    school_name= \"Mumbai Coding Club\"\n",
    "    \n",
    "    def __init__(self, name,gender,age):\n",
    "        self.name=name\n",
    "        self.gender=gender\n",
    "        self.age=age\n",
    "        \n",
    "\n",
    "s1=Person(\"saurabh\",\"male\",22)\n",
    "\n",
    "print(\"School name:\",Person.school_name)\n",
    "\n",
    "s1.name=\"Fatima\"\n",
    "s1.gender=\"Female\"\n",
    "s1.age=45\n",
    "print(\"Student:\",s1.name,s1.gender,s1.age)\n",
    "\n",
    "Person.school_name = 'XYZ School'\n",
    "print('School name:', Person.school_name)"
   ]
  },
  {
   "cell_type": "code",
   "execution_count": 22,
   "metadata": {},
   "outputs": [
    {
     "name": "stdout",
     "output_type": "stream",
     "text": [
      "Name: saurabh Age: 22 School: Mumbai Coding Club\n",
      "Name: saurabh Age: 23 School: MCC\n"
     ]
    }
   ],
   "source": [
    "##Class Method Example\n",
    "\n",
    "\n",
    "class Student:\n",
    "    #class variable\n",
    "    school_name=\"Mumbai Coding Club\"\n",
    "    \n",
    "    #constructor\n",
    "    def __init__(self, name,age):\n",
    "        self.name=name\n",
    "        self.age=age\n",
    "    \n",
    "    \n",
    "    #Instance Method\n",
    "    def show(self):\n",
    "        print(\"Name:\", self.name,\n",
    "             \"Age:\",self.age,\n",
    "             \"School:\",Student.school_name)\n",
    "        \n",
    "        \n",
    "    def change_age(self,new_age):\n",
    "        self.age=new_age\n",
    "    \n",
    "    \n",
    "    # Creating class method\n",
    "    @classmethod\n",
    "    def new_method(cls,new_name):\n",
    "        cls.school_name=new_name\n",
    "s1=Student(\"saurabh\",22)\n",
    "\n",
    "s1.show()\n",
    "s1.change_age(23)\n",
    "\n",
    "#calling class method\n",
    "\n",
    "Student.new_method(\"MCC\")\n",
    "s1.show()\n"
   ]
  },
  {
   "cell_type": "code",
   "execution_count": 25,
   "metadata": {},
   "outputs": [
    {
     "name": "stdout",
     "output_type": "stream",
     "text": [
      "Name: Apple Colour: Red\n",
      "Name: cheery Colour: Red\n"
     ]
    }
   ],
   "source": [
    "##Modifying object properties\n",
    "\n",
    "\n",
    "class Fruits:\n",
    "    def __init__(self, name,color):\n",
    "        self.name=name\n",
    "        self.color=color\n",
    "    def show(self):\n",
    "        print(\"Name:\",self.name,\n",
    "             \"Colour:\", self.color)\n",
    "        \n",
    "s1= Fruits(\"Apple\",\"Red\")\n",
    "s1.show()\n",
    "s1.name=\"cheery\"\n",
    "s1.show()"
   ]
  },
  {
   "cell_type": "code",
   "execution_count": 29,
   "metadata": {},
   "outputs": [
    {
     "name": "stdout",
     "output_type": "stream",
     "text": [
      "Name: Apple Colour: Red\n"
     ]
    },
    {
     "ename": "AttributeError",
     "evalue": "'Fruits' object has no attribute 'name'",
     "output_type": "error",
     "traceback": [
      "\u001b[1;31m---------------------------------------------------------------------------\u001b[0m",
      "\u001b[1;31mAttributeError\u001b[0m                            Traceback (most recent call last)",
      "\u001b[1;32m<ipython-input-29-e8b127b510ef>\u001b[0m in \u001b[0;36m<module>\u001b[1;34m\u001b[0m\n\u001b[0;32m     13\u001b[0m \u001b[0ms1\u001b[0m\u001b[1;33m.\u001b[0m\u001b[0mshow\u001b[0m\u001b[1;33m(\u001b[0m\u001b[1;33m)\u001b[0m\u001b[1;33m\u001b[0m\u001b[1;33m\u001b[0m\u001b[0m\n\u001b[0;32m     14\u001b[0m \u001b[1;32mdel\u001b[0m \u001b[0ms1\u001b[0m\u001b[1;33m.\u001b[0m\u001b[0mname\u001b[0m\u001b[1;33m\u001b[0m\u001b[1;33m\u001b[0m\u001b[0m\n\u001b[1;32m---> 15\u001b[1;33m \u001b[0ms1\u001b[0m\u001b[1;33m.\u001b[0m\u001b[0mshow\u001b[0m\u001b[1;33m(\u001b[0m\u001b[1;33m)\u001b[0m\u001b[1;33m\u001b[0m\u001b[1;33m\u001b[0m\u001b[0m\n\u001b[0m",
      "\u001b[1;32m<ipython-input-29-e8b127b510ef>\u001b[0m in \u001b[0;36mshow\u001b[1;34m(self)\u001b[0m\n\u001b[0;32m      7\u001b[0m         \u001b[0mself\u001b[0m\u001b[1;33m.\u001b[0m\u001b[0mcolor\u001b[0m\u001b[1;33m=\u001b[0m\u001b[0mcolor\u001b[0m\u001b[1;33m\u001b[0m\u001b[1;33m\u001b[0m\u001b[0m\n\u001b[0;32m      8\u001b[0m     \u001b[1;32mdef\u001b[0m \u001b[0mshow\u001b[0m\u001b[1;33m(\u001b[0m\u001b[0mself\u001b[0m\u001b[1;33m)\u001b[0m\u001b[1;33m:\u001b[0m\u001b[1;33m\u001b[0m\u001b[1;33m\u001b[0m\u001b[0m\n\u001b[1;32m----> 9\u001b[1;33m         print(\"Name:\",self.name,\n\u001b[0m\u001b[0;32m     10\u001b[0m              \"Colour:\", self.color)\n\u001b[0;32m     11\u001b[0m \u001b[1;33m\u001b[0m\u001b[0m\n",
      "\u001b[1;31mAttributeError\u001b[0m: 'Fruits' object has no attribute 'name'"
     ]
    }
   ],
   "source": [
    "##deleting object \n",
    "\n",
    "\n",
    "class Fruits:\n",
    "    def __init__(self, name,color):\n",
    "        self.name=name\n",
    "        self.color=color\n",
    "    def show(self):\n",
    "        print(\"Name:\",self.name,\n",
    "             \"Colour:\", self.color)\n",
    "        \n",
    "s1= Fruits(\"Apple\",\"Red\")\n",
    "s1.show()\n",
    "del s1.name\n",
    "s1.show()"
   ]
  },
  {
   "cell_type": "code",
   "execution_count": 32,
   "metadata": {},
   "outputs": [
    {
     "name": "stdout",
     "output_type": "stream",
     "text": [
      "Indside the constructor\n",
      "All variables are initialized\n",
      "my name is saurabh and i am 22 years old. Thank you!\n"
     ]
    }
   ],
   "source": [
    "#contsructor  program\n",
    "\n",
    "class Student:\n",
    "    #initialize constructor\n",
    "    def __init__(self, name,age):\n",
    "        print(\"Indside the constructor\")\n",
    "        self.name=name\n",
    "        self.age=age\n",
    "        print(\"All variables are initialized\")\n",
    "        \n",
    "    def show(self):\n",
    "        print(f\"my name is {self.name} and i am {self.age} years old. Thank you!\")\n",
    "        \n",
    "        \n",
    "s1=Student(\"saurabh\",22)\n",
    "s1.show()\n",
    "        \n",
    "    "
   ]
  },
  {
   "cell_type": "code",
   "execution_count": 39,
   "metadata": {},
   "outputs": [
    {
     "name": "stdout",
     "output_type": "stream",
     "text": [
      "Display name: sau\n"
     ]
    }
   ],
   "source": [
    "#Default constructor\n",
    "\n",
    "class Employee:\n",
    "\n",
    "    def display(self,name):\n",
    "        print(\"Display name:\", name)\n",
    "\n",
    "\n",
    "# here if we pass an parameter to the class object then we will get an error(i.e class will not take any argument)\n",
    "#Because we  did no initialized the constructor into the class\n",
    "# Here we have to pass the parameter to the our methods parenthesis because we have initialize the default constructor into the \n",
    "# our display method\n",
    "emp = Employee()\n",
    "emp.display(\"sau\")\n"
   ]
  },
  {
   "cell_type": "code",
   "execution_count": 40,
   "metadata": {},
   "outputs": [
    {
     "name": "stdout",
     "output_type": "stream",
     "text": [
      "my name is saurabh and i am 22 years old. Thank you!\n"
     ]
    }
   ],
   "source": [
    "#Non paramatrized variable\n",
    "\n",
    "class Student:\n",
    "    def __init__(self):\n",
    "        self.name= \"saurabh\"\n",
    "        self.age=  22\n",
    "        \n",
    "    def show(self):\n",
    "        print(f\"my name is {self.name} and i am {self.age} years old. Thank you!\")\n",
    "# Here we did not need to pass an argument because we have use the non paramatrize constructor.\n",
    "#If we call the class object without parameter then it will call the constructor and in that constructor we\n",
    "# define the variables with their default value then this default values can directly access by the method.\n",
    "        \n",
    "s1=Student()\n",
    "s1.show()"
   ]
  },
  {
   "cell_type": "code",
   "execution_count": 41,
   "metadata": {},
   "outputs": [
    {
     "name": "stdout",
     "output_type": "stream",
     "text": [
      "Emma 23 7500\n",
      "Kelly 25 8500\n"
     ]
    }
   ],
   "source": [
    "# Paramatrize constructor\n",
    "\n",
    "class Employee:\n",
    "    # parameterized constructor\n",
    "    def __init__(self, name, age, salary):\n",
    "        self.name = name\n",
    "        self.age = age\n",
    "        self.salary = salary\n",
    "\n",
    "    # display object\n",
    "    def show(self):\n",
    "        print(self.name, self.age, self.salary)\n",
    "\n",
    "# creating object of the Employee class\n",
    "emma = Employee('Emma', 23, 7500)\n",
    "emma.show()\n",
    "\n",
    "kelly = Employee('Kelly', 25, 8500)\n",
    "kelly.show()\n"
   ]
  },
  {
   "cell_type": "code",
   "execution_count": 47,
   "metadata": {},
   "outputs": [
    {
     "name": "stdout",
     "output_type": "stream",
     "text": [
      "Hello Gift is here. My age is 25\n",
      "Hello saurabh is here. My age is 22\n"
     ]
    }
   ],
   "source": [
    "#Constructor with default values\n",
    "\n",
    "class Employee:\n",
    "    def __init__(self, name=\"saurabh\",age=22):\n",
    "        self.name=name\n",
    "        self.age=age\n",
    "    \n",
    "    def show(self):\n",
    "        print(f\"Hello {self.name} is here. My age is {self.age}\")\n",
    "        \n",
    "        \n",
    "\n",
    "\n",
    "s1=Employee(\"Gift\",25)\n",
    "\n",
    "# Here at a time of object creation if we did not pass any parameter then it will take the default values \n",
    "# from their __init__ constructor\n",
    "s2=Employee()\n",
    "\n",
    "s1.show()\n",
    "\n",
    "s2.show()\n",
    "     \n",
    "        \n",
    "        \n",
    "        \n",
    "        "
   ]
  },
  {
   "cell_type": "code",
   "execution_count": 49,
   "metadata": {},
   "outputs": [
    {
     "ename": "TypeError",
     "evalue": "__init__() missing 1 required positional argument: 'age'",
     "output_type": "error",
     "traceback": [
      "\u001b[1;31m---------------------------------------------------------------------------\u001b[0m",
      "\u001b[1;31mTypeError\u001b[0m                                 Traceback (most recent call last)",
      "\u001b[1;32m<ipython-input-49-c73fd99b360a>\u001b[0m in \u001b[0;36m<module>\u001b[1;34m\u001b[0m\n\u001b[0;32m     11\u001b[0m         \u001b[0mself\u001b[0m\u001b[1;33m.\u001b[0m\u001b[0mage\u001b[0m\u001b[1;33m\u001b[0m\u001b[1;33m\u001b[0m\u001b[0m\n\u001b[0;32m     12\u001b[0m \u001b[1;33m\u001b[0m\u001b[0m\n\u001b[1;32m---> 13\u001b[1;33m \u001b[0ms1\u001b[0m\u001b[1;33m=\u001b[0m\u001b[0mStudent\u001b[0m\u001b[1;33m(\u001b[0m\u001b[1;34m\"sau\"\u001b[0m\u001b[1;33m)\u001b[0m\u001b[1;33m\u001b[0m\u001b[1;33m\u001b[0m\u001b[0m\n\u001b[0m",
      "\u001b[1;31mTypeError\u001b[0m: __init__() missing 1 required positional argument: 'age'"
     ]
    }
   ],
   "source": [
    "# Constructor overloading\n",
    "\n",
    "class Student:\n",
    "    def __init__(self):\n",
    "        self.name=\"saurabh\"\n",
    "       \n",
    "    def __init__(self, name):\n",
    "        self.name\n",
    "    def __init__(self, name, age):\n",
    "        self.name\n",
    "        self.age\n",
    "\n",
    "\n",
    "        \n",
    "# In python the constructor overloading is not possible because if we try to initialize the multiple constructor\n",
    "# then it will refer the last __init__constructor for our class\n",
    "s1=Student(\"sau\")"
   ]
  },
  {
   "cell_type": "code",
   "execution_count": 51,
   "metadata": {},
   "outputs": [
    {
     "name": "stdout",
     "output_type": "stream",
     "text": [
      "Inside Vehicle Constructor\n",
      "Inside Car Constructor\n",
      "Inside Electric Car Constructor\n",
      "Engine=1500cc, Max Speed=240, Km range=750\n"
     ]
    }
   ],
   "source": [
    "class Vehicle:\n",
    "    # Constructor of Vehicle\n",
    "    def __init__(self, engine):\n",
    "        print('Inside Vehicle Constructor')\n",
    "        self.engine = engine\n",
    "\n",
    "class Car(Vehicle):\n",
    "    # Constructor of Car\n",
    "    def __init__(self, engine, max_speed):\n",
    "        super().__init__(engine)\n",
    "        print('Inside Car Constructor')\n",
    "        self.max_speed = max_speed\n",
    "\n",
    "class Electric_Car(Car):\n",
    "    # Constructor of Electric Car\n",
    "    def __init__(self, engine, max_speed, km_range):\n",
    "        super().__init__(engine, max_speed)\n",
    "        print('Inside Electric Car Constructor')\n",
    "        self.km_range = km_range\n",
    "\n",
    "# Object of electric car\n",
    "ev = Electric_Car('1500cc', 240, 750)\n",
    "print(f'Engine={ev.engine}, Max Speed={ev.max_speed}, Km range={ev.km_range}')\n",
    "\n",
    "\n",
    "\n",
    "#costructor chaining is deal with the inheritance.\n",
    "# Constructor chaining is the process of calling one constructor from another constructor.\n",
    "# Constructor chaining is useful when you want to invoke multiple constructors, \n",
    "# one after another, by initializing only one instance.\n"
   ]
  },
  {
   "cell_type": "code",
   "execution_count": null,
   "metadata": {},
   "outputs": [],
   "source": [
    "#concept of constructor\n",
    "# 1] A constructor is a unique method used to initialize an object of the class.\n",
    "# 2] Python will provide a default constructor if no constructor is defined.\n",
    "# 3] Constructor is not a method and doesn’t return anything. it returns None\n",
    "# 4] In Python, we have three types of constructor default, Non-parametrized, and parameterized constructor.\n",
    "# 5] Using self, we can access the instance variable and instance method of the object. The first argument self refers to the current object.\n",
    "# 6] Constructor overloading is not possible in Python.\n",
    "# 7] If the parent class doesn’t have a default constructor, then the compiler would not insert a default constructor in the child class.\n",
    "# 8] A child class constructor can also invoke the parent class constructor using the super() method."
   ]
  },
  {
   "cell_type": "code",
   "execution_count": null,
   "metadata": {},
   "outputs": [],
   "source": []
  },
  {
   "cell_type": "code",
   "execution_count": 4,
   "metadata": {},
   "outputs": [
    {
     "name": "stdout",
     "output_type": "stream",
     "text": [
      "Name saurabh\n",
      "Name 22\n"
     ]
    }
   ],
   "source": [
    "#Create Instance Variables\n",
    "\n",
    "class Student:\n",
    "    def __init__(self, name, age):\n",
    "        #Instance variable\n",
    "        self.name=name\n",
    "        self.age=age\n",
    "        \n",
    "        \n",
    "s1=Student(\"saurabh\",22)\n",
    "\n",
    "print(\"Name\", s1.name)\n",
    "print(\"Name\", s1.age)\n",
    "                \n",
    "    "
   ]
  },
  {
   "cell_type": "code",
   "execution_count": 5,
   "metadata": {},
   "outputs": [
    {
     "name": "stdout",
     "output_type": "stream",
     "text": [
      "Name saurabh\n",
      "Name 22\n",
      "Name SOmnath\n",
      "Name 25\n"
     ]
    }
   ],
   "source": [
    "#Modifying Instance Variables values\n",
    "\n",
    "class Student:\n",
    "    def __init__(self, name, age):\n",
    "        #Instance variable\n",
    "        self.name=name\n",
    "        self.age=age\n",
    "        \n",
    "        \n",
    "s1=Student(\"saurabh\",22)\n",
    "\n",
    "print(\"Name\", s1.name)\n",
    "print(\"Name\", s1.age)\n",
    "\n",
    "# Modifying the instance variable valuee.\n",
    "# By modifying the values it does not effect the old object of values because every object has its seperate copy.\n",
    "s2=Student(\"SOmnath\", 25)\n",
    "\n",
    "print(\"Name\", s2.name)\n",
    "print(\"Name\", s2.age)"
   ]
  },
  {
   "cell_type": "code",
   "execution_count": 13,
   "metadata": {},
   "outputs": [
    {
     "name": "stdout",
     "output_type": "stream",
     "text": [
      "Name of student: Saurabh -->Age of the Student: 50\n",
      "Name: Saurabh\n",
      "Age: 50\n"
     ]
    }
   ],
   "source": [
    "# Ways to Access Instance Variable\n",
    "\n",
    "#Method 1 :  Access instance variable in the instance method\n",
    "\n",
    "class Student:\n",
    "    def __init__(self, name, age):\n",
    "        # instance variable\n",
    "        self.name=name\n",
    "        self.age=age\n",
    "    \n",
    "    #instance method access the instance variable \n",
    "    def show(self):\n",
    "        print(\"Name of student:\",self.name,\"-->\" \n",
    "             \"Age of the Student:\",self.age)\n",
    "#creating object of the class\n",
    "s1=Student(\"Saurabh\",50)\n",
    "\n",
    "# calling the instance variable by calling the instance method\n",
    "s1.show()\n",
    "\n",
    "\n",
    "\n",
    "\n",
    "\n",
    "#Method 2\n",
    "\n",
    "print(\"Name:\",getattr(s1, 'name'))\n",
    "print(\"Age:\",getattr(s1, 'age'))"
   ]
  },
  {
   "cell_type": "code",
   "execution_count": 21,
   "metadata": {},
   "outputs": [
    {
     "name": "stdout",
     "output_type": "stream",
     "text": [
      "Name Saurabh age: 50 Marks: 55\n"
     ]
    },
    {
     "ename": "AttributeError",
     "evalue": "'Student' object has no attribute 'name'",
     "output_type": "error",
     "traceback": [
      "\u001b[1;31m---------------------------------------------------------------------------\u001b[0m",
      "\u001b[1;31mAttributeError\u001b[0m                            Traceback (most recent call last)",
      "\u001b[1;32m<ipython-input-21-2f8b06d46f1e>\u001b[0m in \u001b[0;36m<module>\u001b[1;34m\u001b[0m\n\u001b[0;32m     18\u001b[0m \u001b[1;32mdel\u001b[0m \u001b[0ms1\u001b[0m\u001b[1;33m.\u001b[0m\u001b[0mname\u001b[0m\u001b[1;33m\u001b[0m\u001b[1;33m\u001b[0m\u001b[0m\n\u001b[0;32m     19\u001b[0m \u001b[1;31m#If i try to access the deleted instance variable it will give an error\u001b[0m\u001b[1;33m\u001b[0m\u001b[1;33m\u001b[0m\u001b[1;33m\u001b[0m\u001b[0m\n\u001b[1;32m---> 20\u001b[1;33m \u001b[0mprint\u001b[0m\u001b[1;33m(\u001b[0m\u001b[0ms1\u001b[0m\u001b[1;33m.\u001b[0m\u001b[0mname\u001b[0m\u001b[1;33m)\u001b[0m\u001b[1;33m\u001b[0m\u001b[1;33m\u001b[0m\u001b[0m\n\u001b[0m",
      "\u001b[1;31mAttributeError\u001b[0m: 'Student' object has no attribute 'name'"
     ]
    }
   ],
   "source": [
    "\n",
    "class Student:\n",
    "    def __init__(self, name, age):\n",
    "        # instance variable\n",
    "        self.name=name\n",
    "        self.age=age\n",
    "    \n",
    "\n",
    "#creating object of the class\n",
    "s1=Student(\"Saurabh\",50)\n",
    "#Dynamically adding the instance variable\n",
    "# Adding the another instance variable by using class object\n",
    "s1.marks=55\n",
    "print(\"Name\",s1.name, \"age:\" ,s1.age , \"Marks:\" , s1.marks) \n",
    "\n",
    "\n",
    "#Dynamically adding the instance variable\n",
    "#deleting an instance variable by object\n",
    "del s1.name\n",
    "#If i try to access the deleted instance variable it will give an error\n",
    "print(s1.name)\n"
   ]
  },
  {
   "cell_type": "code",
   "execution_count": 25,
   "metadata": {},
   "outputs": [
    {
     "name": "stdout",
     "output_type": "stream",
     "text": [
      "First Student\n",
      "Name: Jessa Age: 14\n",
      "Second Student\n",
      "Name: Kelly Age: 16\n"
     ]
    }
   ],
   "source": [
    "class Student:\n",
    "    # constructor\n",
    "    def __init__(self, name, age):\n",
    "        # Instance variable\n",
    "        self.name = name\n",
    "        self.age = age\n",
    "\n",
    "    # instance method access instance variable\n",
    "    def show(self):\n",
    "        print('Name:', self.name, 'Age:', self.age)\n",
    "\n",
    "# create first object\n",
    "print('First Student')\n",
    "emma = Student(\"Jessa\", 14)\n",
    "# call instance method\n",
    "emma.show()\n",
    "\n",
    "# create second object\n",
    "print('Second Student')\n",
    "kelly = Student(\"Kelly\", 16)\n",
    "# call instance method\n",
    "kelly.show()"
   ]
  },
  {
   "cell_type": "code",
   "execution_count": 26,
   "metadata": {},
   "outputs": [
    {
     "name": "stdout",
     "output_type": "stream",
     "text": [
      "class VIII\n",
      "Roll Number: 20 Name: Emma Age: 14\n",
      "class IX\n",
      "Roll Number: 35 Name: Emma Age: 15\n"
     ]
    }
   ],
   "source": [
    "\n",
    "#Modifying the instance variable inside the innstance method\n",
    "class Student:\n",
    "    def __init__(self, roll_no, name, age):\n",
    "        # Instance variable\n",
    "        self.roll_no = roll_no\n",
    "        self.name = name\n",
    "        self.age = age\n",
    "\n",
    "    # instance method access instance variable\n",
    "    def show(self):\n",
    "        print('Roll Number:', self.roll_no, 'Name:', self.name, 'Age:', self.age)\n",
    "\n",
    "    # instance method to modify instance variable\n",
    "    def update(self, roll_number, age):\n",
    "        self.roll_no = roll_number\n",
    "        self.age = age\n",
    "\n",
    "# create object\n",
    "print('class VIII')\n",
    "stud = Student(20, \"Emma\", 14)\n",
    "# call instance method\n",
    "stud.show()\n",
    "\n",
    "# Modify instance variables\n",
    "print('class IX')\n",
    "stud.update(35, 15)\n",
    "stud.show()"
   ]
  },
  {
   "cell_type": "code",
   "execution_count": 34,
   "metadata": {},
   "outputs": [
    {
     "name": "stdout",
     "output_type": "stream",
     "text": [
      "Name: Emma Age: 14\n",
      "Percentage: 64.5\n"
     ]
    },
    {
     "ename": "AttributeError",
     "evalue": "percentage",
     "output_type": "error",
     "traceback": [
      "\u001b[1;31m---------------------------------------------------------------------------\u001b[0m",
      "\u001b[1;31mAttributeError\u001b[0m                            Traceback (most recent call last)",
      "\u001b[1;32m<ipython-input-34-8808e03abad0>\u001b[0m in \u001b[0;36m<module>\u001b[1;34m\u001b[0m\n\u001b[0;32m     18\u001b[0m \u001b[1;33m\u001b[0m\u001b[0m\n\u001b[0;32m     19\u001b[0m \u001b[1;31m# Delete the method from class using del operator\u001b[0m\u001b[1;33m\u001b[0m\u001b[1;33m\u001b[0m\u001b[1;33m\u001b[0m\u001b[0m\n\u001b[1;32m---> 20\u001b[1;33m \u001b[1;32mdel\u001b[0m \u001b[0memma\u001b[0m\u001b[1;33m.\u001b[0m\u001b[0mpercentage\u001b[0m\u001b[1;33m\u001b[0m\u001b[1;33m\u001b[0m\u001b[0m\n\u001b[0m\u001b[0;32m     21\u001b[0m \u001b[1;33m\u001b[0m\u001b[0m\n\u001b[0;32m     22\u001b[0m \u001b[1;31m# Again calling percentage() method\u001b[0m\u001b[1;33m\u001b[0m\u001b[1;33m\u001b[0m\u001b[1;33m\u001b[0m\u001b[0m\n",
      "\u001b[1;31mAttributeError\u001b[0m: percentage"
     ]
    }
   ],
   "source": [
    "class Student:\n",
    "    # constructor\n",
    "    def __init__(self, name, age):\n",
    "        self.name = name\n",
    "        self.age = age\n",
    "\n",
    "    # instance method\n",
    "    def show(self):\n",
    "        print('Name:', self.name, 'Age:', self.age)\n",
    "\n",
    "    # instance method\n",
    "    def percentage(self, sub1, sub2):\n",
    "        print('Percentage:', (sub1 + sub2) / 2)\n",
    "\n",
    "emma = Student('Emma', 14)\n",
    "emma.show()\n",
    "emma.percentage(67, 62)\n",
    "\n",
    "# Delete the method from class using del operator\n",
    "del emma.percentage\n",
    "\n",
    "# Again calling percentage() method\n",
    "# It will raise error\n",
    "emma.percentage()\n"
   ]
  },
  {
   "cell_type": "code",
   "execution_count": 38,
   "metadata": {},
   "outputs": [
    {
     "name": "stdout",
     "output_type": "stream",
     "text": [
      "Name: Emma Age: 14\n",
      "Percentage: 64.5\n"
     ]
    },
    {
     "ename": "AttributeError",
     "evalue": "percentage",
     "output_type": "error",
     "traceback": [
      "\u001b[1;31m---------------------------------------------------------------------------\u001b[0m",
      "\u001b[1;31mAttributeError\u001b[0m                            Traceback (most recent call last)",
      "\u001b[1;32m<ipython-input-38-82ac5eca976c>\u001b[0m in \u001b[0;36m<module>\u001b[1;34m\u001b[0m\n\u001b[0;32m     18\u001b[0m \u001b[1;33m\u001b[0m\u001b[0m\n\u001b[0;32m     19\u001b[0m \u001b[1;31m# delete instance method percentage() using delattr()\u001b[0m\u001b[1;33m\u001b[0m\u001b[1;33m\u001b[0m\u001b[1;33m\u001b[0m\u001b[0m\n\u001b[1;32m---> 20\u001b[1;33m \u001b[0mdelattr\u001b[0m\u001b[1;33m(\u001b[0m\u001b[0memma\u001b[0m\u001b[1;33m,\u001b[0m \u001b[1;34m'percentage'\u001b[0m\u001b[1;33m)\u001b[0m\u001b[1;33m\u001b[0m\u001b[1;33m\u001b[0m\u001b[0m\n\u001b[0m\u001b[0;32m     21\u001b[0m \u001b[0memma\u001b[0m\u001b[1;33m.\u001b[0m\u001b[0mshow\u001b[0m\u001b[1;33m(\u001b[0m\u001b[1;33m)\u001b[0m\u001b[1;33m\u001b[0m\u001b[1;33m\u001b[0m\u001b[0m\n\u001b[0;32m     22\u001b[0m \u001b[1;33m\u001b[0m\u001b[0m\n",
      "\u001b[1;31mAttributeError\u001b[0m: percentage"
     ]
    }
   ],
   "source": [
    "class Student:\n",
    "    # constructor\n",
    "    def __init__(self, name, age):\n",
    "        self.name = name\n",
    "        self.age = age\n",
    "\n",
    "    # instance method\n",
    "    def show(self):\n",
    "        print('Name:', self.name, 'Age:', self.age)\n",
    "\n",
    "    # instance method\n",
    "    def percentage(self, sub1, sub2):\n",
    "        print('Percentage:', (sub1 + sub2) / 2)\n",
    "\n",
    "emma = Student('Emma', 14)\n",
    "emma.show()\n",
    "emma.percentage(67, 62)\n",
    "\n",
    "# delete instance method percentage() using delattr()\n",
    "delattr(emma, 'percentage')\n",
    "emma.show()\n",
    "\n",
    "# Again calling percentage() method\n",
    "# It will raise error\n",
    "emma.percentage(67, 62)\n",
    "\n"
   ]
  },
  {
   "cell_type": "code",
   "execution_count": 39,
   "metadata": {},
   "outputs": [
    {
     "name": "stdout",
     "output_type": "stream",
     "text": [
      "Inside instance method\n",
      "Emma 10 ABC School \n",
      "ABC School \n",
      "Outside class\n",
      "ABC School \n",
      "ABC School \n"
     ]
    }
   ],
   "source": [
    "# Access Class Variable in Instance method and outside class\n",
    "\n",
    "class Student:\n",
    "    # Class variable\n",
    "    school_name = 'ABC School '\n",
    "\n",
    "    # constructor\n",
    "    def __init__(self, name, roll_no):\n",
    "        self.name = name\n",
    "        self.roll_no = roll_no\n",
    "\n",
    "    # Instance method\n",
    "    def show(self):\n",
    "        print('Inside instance method')\n",
    "        # access using self\n",
    "        print(self.name, self.roll_no, self.school_name)\n",
    "        # access using class name\n",
    "        print(Student.school_name)\n",
    "\n",
    "# create Object\n",
    "s1 = Student('Emma', 10)\n",
    "s1.show()\n",
    "\n",
    "print('Outside class')\n",
    "# access class variable outside class\n",
    "# access using object reference\n",
    "print(s1.school_name)\n",
    "\n",
    "# access using class name\n",
    "print(Student.school_name)\n"
   ]
  },
  {
   "cell_type": "code",
   "execution_count": 40,
   "metadata": {},
   "outputs": [
    {
     "name": "stdout",
     "output_type": "stream",
     "text": [
      "Before\n",
      "Emma 10 ABC School \n",
      "After\n",
      "Emma 10 XYZ School\n"
     ]
    }
   ],
   "source": [
    "# Modify Class Variables\n",
    "\n",
    "# Note: We should change the class variable’s value using the class name only.\n",
    "\n",
    "# note: It is best practice to use a class name to change the value of a class variable. \n",
    "# Because if we try to change the class variable’s value by using an object, \n",
    "# a new instance variable is created for that particular object, which shadows the class variables.\n",
    "\n",
    "\n",
    "class Student:\n",
    "    # Class variable\n",
    "    school_name = 'ABC School '\n",
    "\n",
    "    # constructor\n",
    "    def __init__(self, name, roll_no):\n",
    "        self.name = name\n",
    "        self.roll_no = roll_no\n",
    "\n",
    "    # Instance method\n",
    "    def show(self):\n",
    "        print(self.name, self.roll_no, Student.school_name)\n",
    "\n",
    "# create Object\n",
    "s1 = Student('Emma', 10)\n",
    "print('Before')\n",
    "s1.show()\n",
    "\n",
    "# Modify class variable\n",
    "Student.school_name = 'XYZ School'\n",
    "print('After')\n",
    "s1.show()\n"
   ]
  },
  {
   "cell_type": "code",
   "execution_count": 43,
   "metadata": {},
   "outputs": [
    {
     "name": "stdout",
     "output_type": "stream",
     "text": [
      "my name is saurabh. I am 23 years old\n",
      "I have selected the python course for my future development\n"
     ]
    }
   ],
   "source": [
    "\n",
    "#Class Variables In Inheritance\n",
    "class course:\n",
    "    course=\"python\"\n",
    "class  student(course):\n",
    "    def __init__(self, name , age):\n",
    "        self.name=name\n",
    "        self.age=age\n",
    "    def show(self):\n",
    "        print(f\"my name is {self.name}. I am {self.age} years old\")\n",
    "        print(f\"I have selected the {course.course} course for my future development\")\n",
    "        \n",
    "s1=student(\"saurabh\",23)\n",
    "\n",
    "s1.show()"
   ]
  },
  {
   "cell_type": "code",
   "execution_count": 44,
   "metadata": {},
   "outputs": [
    {
     "name": "stdout",
     "output_type": "stream",
     "text": [
      "Before\n",
      "Student name: Emma Course Name: SQL\n",
      "Now\n",
      "Student name: Emma Course Name: Machine Learning\n",
      "Parent Class Course Name: Python\n"
     ]
    }
   ],
   "source": [
    "# What if both child class and parent class has the same class variable name. \n",
    "# In this case, the child class will not inherit the class variable of a base class. \n",
    "# So it is recommended to create a separate class variable for child class instead of inheriting the base class variable.\n",
    "\n",
    "\n",
    "class Course:\n",
    "    # class variable\n",
    "    course = \"Python\"\n",
    "\n",
    "class Student(Course):\n",
    "    # class variable\n",
    "    course = \"SQL\"\n",
    "\n",
    "    def __init__(self, name):\n",
    "        self.name = name\n",
    "\n",
    "    def show_student(self):\n",
    "        # Accessing class variable\n",
    "        print('Before')\n",
    "        print(\"Student name:\", self.name, \"Course Name:\", Student.course)\n",
    "        # changing class variable's value\n",
    "        print('Now')\n",
    "        Student.course = \"Machine Learning\"\n",
    "        print(\"Student name:\", self.name, \"Course Name:\", Student.course)\n",
    "\n",
    "# creating object of Student class\n",
    "stud = Student(\"Emma\")\n",
    "stud.show_student()\n",
    "\n",
    "# parent class course name\n",
    "print('Parent Class Course Name:', Course.course)"
   ]
  },
  {
   "cell_type": "code",
   "execution_count": null,
   "metadata": {},
   "outputs": [],
   "source": [
    "\n",
    "# Wrong Use of Class Variables\n",
    "\n",
    "class Player:\n",
    "    # class variables\n",
    "    club = 'Chelsea'\n",
    "    sport = 'Football'\n",
    "\n",
    "    def __init__(self, name):\n",
    "        # Instance variable\n",
    "        self.name = name\n",
    "\n",
    "    def show(self):\n",
    "        print(\"Player :\", 'Name:', self.name, 'Club:', self.club, 'Sports:', self.sport)\n",
    "\n",
    "p1 = Player('John')\n",
    "\n",
    "# wrong use of class variable\n",
    "p1.club = 'FC'\n",
    "p1.show()\n",
    "\n",
    "p2 = Player('Emma')\n",
    "p2.sport = 'Tennis'\n",
    "p2.show()\n",
    "\n",
    "# actual class variable value\n",
    "print('Club:', Player.club, 'Sport:', Player.sport)\n",
    "\n",
    "\n",
    "# if we want to access the class variable or change the class variable values the we have to modify with class name \n",
    "# Not with object of class"
   ]
  },
  {
   "cell_type": "code",
   "execution_count": 45,
   "metadata": {},
   "outputs": [
    {
     "name": "stdout",
     "output_type": "stream",
     "text": [
      "Jessa's age is: 20\n",
      "Joy's age is: 27\n"
     ]
    }
   ],
   "source": [
    "#  Create Class Method Using @classmethod Decorator\n",
    "\n",
    "from datetime import date\n",
    "\n",
    "class Student:\n",
    "    def __init__(self, name, age):\n",
    "        self.name = name\n",
    "        self.age = age\n",
    "\n",
    "    @classmethod\n",
    "    def calculate_age(cls, name, birth_year):\n",
    "        # calculate age an set it as a age\n",
    "        # return new object\n",
    "        return cls(name, date.today().year - birth_year)\n",
    "\n",
    "    def show(self):\n",
    "        print(self.name + \"'s age is: \" + str(self.age))\n",
    "\n",
    "jessa = Student('Jessa', 20)\n",
    "jessa.show()\n",
    "\n",
    "# create new object using the factory method\n",
    "joy = Student.calculate_age(\"Joy\", 1995)\n",
    "joy.show()\n"
   ]
  },
  {
   "cell_type": "code",
   "execution_count": 46,
   "metadata": {},
   "outputs": [
    {
     "name": "stdout",
     "output_type": "stream",
     "text": [
      "School Name is : ABC School\n"
     ]
    }
   ],
   "source": [
    "# Create Class Method Using classmethod() function\n",
    "\n",
    "class School:\n",
    "    # class variable\n",
    "    name = 'ABC School'\n",
    "\n",
    "    def school_name(cls):\n",
    "        print('School Name is :', cls.name)\n",
    "\n",
    "# create class method\n",
    "School.school_name = classmethod(School.school_name)\n",
    "\n",
    "# call class method\n",
    "\n",
    "School.school_name()\n"
   ]
  },
  {
   "cell_type": "code",
   "execution_count": null,
   "metadata": {},
   "outputs": [],
   "source": []
  },
  {
   "cell_type": "code",
   "execution_count": 50,
   "metadata": {},
   "outputs": [
    {
     "name": "stdout",
     "output_type": "stream",
     "text": [
      "Jessa 20 School: ABC School\n",
      "Jessa 20 School: XYZ School\n"
     ]
    }
   ],
   "source": [
    "# Access Class Variables in Class Methods\n",
    "class Student:\n",
    "    school_name = 'ABC School'\n",
    "\n",
    "    def __init__(self, name, age):\n",
    "        self.name = name\n",
    "        self.age = age\n",
    "\n",
    "    @classmethod\n",
    "    def change_school(cls, school_name):\n",
    "        # class_name.class_variable\n",
    "        cls.school_name = school_name\n",
    "\n",
    "    # instance method\n",
    "    def show(self):\n",
    "        print(self.name, self.age, 'School:', Student.school_name)\n",
    "\n",
    "jessa = Student('Jessa', 20)\n",
    "jessa.show()\n",
    "\n",
    "# change school_name\n",
    "Student.change_school('XYZ School')\n",
    "jessa.show()"
   ]
  },
  {
   "cell_type": "code",
   "execution_count": 53,
   "metadata": {},
   "outputs": [
    {
     "name": "stdout",
     "output_type": "stream",
     "text": [
      "BMW X5 65000\n",
      "BMW X5 4875000\n",
      "<class '__main__.Car'>\n"
     ]
    }
   ],
   "source": [
    "# Class Method in Inheritance\n",
    "class Vehicle:\n",
    "    brand_name = 'BMW'\n",
    "\n",
    "    def __init__(self, name, price):\n",
    "        self.name = name\n",
    "        self.price = price\n",
    "\n",
    "    @classmethod\n",
    "    def from_price(cls, name, price):\n",
    "        # ind_price = dollar * 76\n",
    "        # create new Vehicle object\n",
    "        return cls(name, (price * 75))\n",
    "\n",
    "    def show(self):\n",
    "        print(self.name, self.price)\n",
    "\n",
    "class Car(Vehicle):\n",
    "    def average(self, distance, fuel_used):\n",
    "        mileage = distance / fuel_used\n",
    "        print(self.name, 'Mileage', mileage)\n",
    "\n",
    "bmw_us = Car('BMW X5', 65000)\n",
    "bmw_us.show()\n",
    "\n",
    "# class method of parent class is available to child class\n",
    "# this will return the object of calling class\n",
    "bmw_ind = Car.from_price('BMW X5', 65000)\n",
    "bmw_ind.show()\n",
    "\n",
    "# check type\n",
    "print(type(bmw_ind))"
   ]
  },
  {
   "cell_type": "code",
   "execution_count": 54,
   "metadata": {},
   "outputs": [
    {
     "name": "stdout",
     "output_type": "stream",
     "text": [
      "Jessa 14\n",
      "Below exercises for ABC School\n"
     ]
    }
   ],
   "source": [
    "# Dynamically Add Class Method to a Class\n",
    "class Student:\n",
    "    school_name = 'ABC School'\n",
    "\n",
    "    def __init__(self, name, age):\n",
    "        self.name = name\n",
    "        self.age = age\n",
    "\n",
    "    def show(self):\n",
    "        print(self.name, self.age)\n",
    "\n",
    "# class ended\n",
    "\n",
    "# method outside class\n",
    "def exercises(cls):\n",
    "    # access class variables\n",
    "    print(\"Below exercises for\", cls.school_name)\n",
    "\n",
    "# Adding class method at runtime to class\n",
    "Student.exercises = classmethod(exercises)\n",
    "\n",
    "jessa = Student(\"Jessa\", 14)\n",
    "jessa.show()\n",
    "# call the new method\n",
    "Student.exercises()\n"
   ]
  },
  {
   "cell_type": "code",
   "execution_count": 55,
   "metadata": {},
   "outputs": [
    {
     "name": "stdout",
     "output_type": "stream",
     "text": [
      "None\n",
      "XYZ School\n"
     ]
    },
    {
     "ename": "AttributeError",
     "evalue": "type object 'Student' has no attribute 'change_school'",
     "output_type": "error",
     "traceback": [
      "\u001b[1;31m---------------------------------------------------------------------------\u001b[0m",
      "\u001b[1;31mAttributeError\u001b[0m                            Traceback (most recent call last)",
      "\u001b[1;32m<ipython-input-55-f085f028cb6b>\u001b[0m in \u001b[0;36m<module>\u001b[1;34m\u001b[0m\n\u001b[0;32m     19\u001b[0m \u001b[1;31m# call class method\u001b[0m\u001b[1;33m\u001b[0m\u001b[1;33m\u001b[0m\u001b[1;33m\u001b[0m\u001b[0m\n\u001b[0;32m     20\u001b[0m \u001b[1;31m# it will give error\u001b[0m\u001b[1;33m\u001b[0m\u001b[1;33m\u001b[0m\u001b[1;33m\u001b[0m\u001b[0m\n\u001b[1;32m---> 21\u001b[1;33m \u001b[0mprint\u001b[0m\u001b[1;33m(\u001b[0m\u001b[0mStudent\u001b[0m\u001b[1;33m.\u001b[0m\u001b[0mchange_school\u001b[0m\u001b[1;33m(\u001b[0m\u001b[1;34m'PQR School'\u001b[0m\u001b[1;33m)\u001b[0m\u001b[1;33m)\u001b[0m\u001b[1;33m\u001b[0m\u001b[1;33m\u001b[0m\u001b[0m\n\u001b[0m",
      "\u001b[1;31mAttributeError\u001b[0m: type object 'Student' has no attribute 'change_school'"
     ]
    }
   ],
   "source": [
    "# Dynamically Delete Class Methods using del keyword\n",
    "class Student:\n",
    "    school_name = 'ABC School'\n",
    "\n",
    "    def __init__(self, name, age):\n",
    "        self.name = name\n",
    "        self.age = age\n",
    "\n",
    "    @classmethod\n",
    "    def change_school(cls, school_name):\n",
    "        cls.school_name = school_name\n",
    "\n",
    "jessa = Student('Jessa', 20)\n",
    "print(Student.change_school('XYZ School'))\n",
    "print(Student.school_name)\n",
    "\n",
    "# delete class method\n",
    "del Student.change_school\n",
    "\n",
    "# call class method\n",
    "# it will give error\n",
    "print(Student.change_school('PQR School'))\n"
   ]
  },
  {
   "cell_type": "code",
   "execution_count": 56,
   "metadata": {},
   "outputs": [
    {
     "name": "stdout",
     "output_type": "stream",
     "text": [
      "None\n",
      "XYZ School\n"
     ]
    },
    {
     "ename": "AttributeError",
     "evalue": "type object 'Student' has no attribute 'change_school'",
     "output_type": "error",
     "traceback": [
      "\u001b[1;31m---------------------------------------------------------------------------\u001b[0m",
      "\u001b[1;31mAttributeError\u001b[0m                            Traceback (most recent call last)",
      "\u001b[1;32m<ipython-input-56-bc7a572deaa2>\u001b[0m in \u001b[0;36m<module>\u001b[1;34m\u001b[0m\n\u001b[0;32m     19\u001b[0m \u001b[1;31m# call class method\u001b[0m\u001b[1;33m\u001b[0m\u001b[1;33m\u001b[0m\u001b[1;33m\u001b[0m\u001b[0m\n\u001b[0;32m     20\u001b[0m \u001b[1;31m# it will give error\u001b[0m\u001b[1;33m\u001b[0m\u001b[1;33m\u001b[0m\u001b[1;33m\u001b[0m\u001b[0m\n\u001b[1;32m---> 21\u001b[1;33m \u001b[0mprint\u001b[0m\u001b[1;33m(\u001b[0m\u001b[0mStudent\u001b[0m\u001b[1;33m.\u001b[0m\u001b[0mchange_school\u001b[0m\u001b[1;33m(\u001b[0m\u001b[1;34m'PQR School'\u001b[0m\u001b[1;33m)\u001b[0m\u001b[1;33m)\u001b[0m\u001b[1;33m\u001b[0m\u001b[1;33m\u001b[0m\u001b[0m\n\u001b[0m",
      "\u001b[1;31mAttributeError\u001b[0m: type object 'Student' has no attribute 'change_school'"
     ]
    }
   ],
   "source": [
    "# Dynamically Delete Class Methods using delattr\n",
    "class Student:\n",
    "    school_name = 'ABC School'\n",
    "\n",
    "    def __init__(self, name, age):\n",
    "        self.name = name\n",
    "        self.age = age\n",
    "\n",
    "    @classmethod\n",
    "    def change_school(cls, school_name):\n",
    "        cls.school_name = school_name\n",
    "\n",
    "jessa = Student('Jessa', 20)\n",
    "print(Student.change_school('XYZ School'))\n",
    "print(Student.school_name)\n",
    "\n",
    "# delete class method\n",
    "delattr(Student, 'change_school')\n",
    "\n",
    "# call class method\n",
    "# it will give error\n",
    "print(Student.change_school('PQR School'))\n"
   ]
  },
  {
   "cell_type": "code",
   "execution_count": 1,
   "metadata": {},
   "outputs": [
    {
     "name": "stdout",
     "output_type": "stream",
     "text": [
      "Inside static method 10\n",
      "Inside static method 10\n"
     ]
    }
   ],
   "source": [
    "#Calling static method by object and class name and declaration of static\n",
    "\n",
    "#Any method we create in a class will automatically be created as an instance method. \n",
    "# We must explicitly tell Python that it is a static method using the @staticmethod decorator or staticmethod() function.\n",
    "class Employee:\n",
    "    @staticmethod\n",
    "    def sample(x):\n",
    "        print('Inside static method', x)\n",
    "\n",
    "# call static method\n",
    "Employee.sample(10)\n",
    "\n",
    "# can be called using object\n",
    "emp = Employee()\n",
    "emp.sample(10)"
   ]
  },
  {
   "cell_type": "code",
   "execution_count": 2,
   "metadata": {},
   "outputs": [
    {
     "name": "stdout",
     "output_type": "stream",
     "text": [
      "Completed task_1\n",
      "Completed task_2\n",
      "Completed task_3\n"
     ]
    }
   ],
   "source": [
    "# Create Static Method Using @staticmethod Decorator/\n",
    "\n",
    "class Employee(object):\n",
    "\n",
    "    def __init__(self, name, salary, project_name):\n",
    "        self.name = name\n",
    "        self.salary = salary\n",
    "        self.project_name = project_name\n",
    "\n",
    "    @staticmethod\n",
    "    def gather_requirement(project_name):\n",
    "        if project_name == 'ABC Project':\n",
    "            requirement = ['task_1', 'task_2', 'task_3']\n",
    "        else:\n",
    "            requirement = ['task_1']\n",
    "        return requirement\n",
    "\n",
    "    # instance method\n",
    "    def work(self):\n",
    "        # call static method from instance method\n",
    "        requirement = self.gather_requirement(self.project_name)\n",
    "        for task in requirement:\n",
    "            print('Completed', task)\n",
    "\n",
    "emp = Employee('Kelly', 12000, 'ABC Project')\n",
    "emp.work()\n"
   ]
  },
  {
   "cell_type": "code",
   "execution_count": 3,
   "metadata": {},
   "outputs": [
    {
     "name": "stdout",
     "output_type": "stream",
     "text": [
      "This the stats method\n"
     ]
    }
   ],
   "source": [
    "# Call Static Method from Another Method\n",
    "\n",
    "class test:\n",
    "    @staticmethod\n",
    "    def stats():\n",
    "        print(\"This the stats method\")\n",
    "    \n",
    "    @staticmethod\n",
    "    \n",
    "    def stats1():\n",
    "        test.stats()\n",
    "    \n",
    "    @classmethod\n",
    "    def stats2(cls):\n",
    "        cls.stats1()\n",
    "test.stats2()"
   ]
  },
  {
   "cell_type": "code",
   "execution_count": 4,
   "metadata": {},
   "outputs": [
    {
     "ename": "AttributeError",
     "evalue": "'test' object has no attribute '__age'",
     "output_type": "error",
     "traceback": [
      "\u001b[1;31m---------------------------------------------------------------------------\u001b[0m",
      "\u001b[1;31mAttributeError\u001b[0m                            Traceback (most recent call last)",
      "\u001b[1;32m<ipython-input-4-bc758b7c7d32>\u001b[0m in \u001b[0;36m<module>\u001b[1;34m\u001b[0m\n\u001b[0;32m      7\u001b[0m \u001b[1;33m\u001b[0m\u001b[0m\n\u001b[0;32m      8\u001b[0m \u001b[0ms1\u001b[0m\u001b[1;33m=\u001b[0m\u001b[0mtest\u001b[0m\u001b[1;33m(\u001b[0m\u001b[1;34m\"shabad\"\u001b[0m\u001b[1;33m,\u001b[0m\u001b[1;36m55\u001b[0m\u001b[1;33m)\u001b[0m\u001b[1;33m\u001b[0m\u001b[1;33m\u001b[0m\u001b[0m\n\u001b[1;32m----> 9\u001b[1;33m \u001b[0mprint\u001b[0m\u001b[1;33m(\u001b[0m\u001b[0ms1\u001b[0m\u001b[1;33m.\u001b[0m\u001b[0m__age\u001b[0m\u001b[1;33m)\u001b[0m\u001b[1;33m\u001b[0m\u001b[1;33m\u001b[0m\u001b[0m\n\u001b[0m",
      "\u001b[1;31mAttributeError\u001b[0m: 'test' object has no attribute '__age'"
     ]
    }
   ],
   "source": [
    "# Private members are accessible only within the class, and we can’t access them directly from the class objects.\n",
    "\n",
    "class test:\n",
    "    def __init__(self,name ,age):\n",
    "        self.name=name\n",
    "        self.__age=age\n",
    "        \n",
    "s1=test(\"shabad\",55)\n",
    "print(s1.__age)"
   ]
  },
  {
   "cell_type": "code",
   "execution_count": 5,
   "metadata": {},
   "outputs": [
    {
     "name": "stdout",
     "output_type": "stream",
     "text": [
      "My name is saurabh & I am 22 years old.\n"
     ]
    }
   ],
   "source": [
    "# Public method to access private members\n",
    "\n",
    "\n",
    "class student:\n",
    "    def __init__(self,name, age):\n",
    "        self.name=name\n",
    "        self.__age=age\n",
    "        \n",
    "    def show(self):\n",
    "        print(f\"My name is {self.name} & I am {self.__age} years old.\")\n",
    "\n",
    "        \n",
    "s1=student(\"saurabh\",22)\n",
    "s1.show()\n",
    "        \n",
    "        "
   ]
  },
  {
   "cell_type": "code",
   "execution_count": 6,
   "metadata": {},
   "outputs": [
    {
     "name": "stdout",
     "output_type": "stream",
     "text": [
      "shabad\n"
     ]
    }
   ],
   "source": [
    "# Name Mangling to access private members\n",
    "\n",
    "# syntax: object._classname__dataMember\n",
    "\n",
    "\n",
    "class student:\n",
    "    def __init__(self,name,age):\n",
    "        self.__name=name\n",
    "        self.age=age\n",
    "s1=student(\"shabad\",65)\n",
    "\n",
    "print(s1._student__name)"
   ]
  },
  {
   "cell_type": "code",
   "execution_count": 8,
   "metadata": {},
   "outputs": [
    {
     "name": "stdout",
     "output_type": "stream",
     "text": [
      "My name is saurabh and i have selected python course\n",
      "python\n"
     ]
    }
   ],
   "source": [
    "\n",
    "#protecte`\n",
    "class company:\n",
    "    def __init__(self):\n",
    "        self._project=\"python\"\n",
    "        \n",
    "class employee:\n",
    "    def __init__(self,name):\n",
    "        self.name=name\n",
    "        \n",
    "        company.__init__(self)\n",
    "        \n",
    "        \n",
    "    def show(self):\n",
    "        print(f\"My name is {self.name} and i have selected {self._project} course\")\n",
    "s1=employee(\"saurabh\")\n",
    "s1.show()\n",
    "print(s1._project)\n",
    "        \n",
    "        \n",
    "        \n",
    "        "
   ]
  },
  {
   "cell_type": "code",
   "execution_count": 7,
   "metadata": {},
   "outputs": [
    {
     "name": "stdout",
     "output_type": "stream",
     "text": [
      "Name: saurabh 22\n",
      "we are getting age:  22\n",
      "Name: saurabh 25\n"
     ]
    }
   ],
   "source": [
    "# Getters and Setters in Python\n",
    "\n",
    "\n",
    "class Student:\n",
    "    def __init__(self,name,age):\n",
    "        self.name=name\n",
    "        self.__age=age\n",
    "        \n",
    "    def get_age(self):\n",
    "        return self.__age\n",
    "    def set_age(self,new_age):\n",
    "        self.__age=new_age\n",
    "        \n",
    "s1=Student('saurabh',22)\n",
    "\n",
    "print(\"Name:\" ,s1.name, s1.get_age())\n",
    "print(\"we are getting age: \", s1._Student__age)\n",
    "\n",
    "\n",
    "s1.set_age(25)\n",
    "print(\"Name:\", s1.name, s1.get_age())"
   ]
  },
  {
   "cell_type": "code",
   "execution_count": 21,
   "metadata": {},
   "outputs": [
    {
     "name": "stdout",
     "output_type": "stream",
     "text": [
      "Student Details: Jessa 10\n",
      "Invalid roll no. Please set correct roll number\n",
      "Student Details: Jessa 25\n"
     ]
    }
   ],
   "source": [
    "class Student:\n",
    "    def __init__(self, name, roll_no, age):\n",
    "        # private member\n",
    "        self.name = name\n",
    "        # private members to restrict access\n",
    "        # avoid direct data modification\n",
    "        self.__roll_no = roll_no\n",
    "        self.__age = age\n",
    "\n",
    "    def show(self):\n",
    "        print('Student Details:', self.name, self.__roll_no)\n",
    "\n",
    "    # getter methods\n",
    "    def get_roll_no(self):\n",
    "        return self.__roll_no\n",
    "\n",
    "    # setter method to modify data member\n",
    "    # condition to allow data modification with rules\n",
    "    def set_roll_no(self, number):\n",
    "        if number > 50:\n",
    "            print('Invalid roll no. Please set correct roll number')\n",
    "        else:\n",
    "            self.__roll_no = number\n",
    "\n",
    "jessa = Student('Jessa', 10, 15)\n",
    "\n",
    "# before Modify\n",
    "jessa.show()\n",
    "# changing roll number using setter\n",
    "jessa.set_roll_no(120)\n",
    "\n",
    "\n",
    "jessa.set_roll_no(25)\n",
    "jessa.show()"
   ]
  },
  {
   "cell_type": "code",
   "execution_count": null,
   "metadata": {},
   "outputs": [],
   "source": [
    "# Advantages of Encapsulation:\n",
    "\n",
    "# Security: The main advantage of using encapsulation is the security of the data.\n",
    "#           Encapsulation protects an object from unauthorized access. \n",
    "#           It allows private and protected access levels to prevent accidental data modification.\n",
    "# Data Hiding: The user would not be knowing what is going on behind the scene. \n",
    "#              They would only be knowing that to modify a data member, call the setter method.  \n",
    "#             To read a data member, call the getter method. What these setter and getter methods are doing is hidden from them.\n",
    "# Simplicity: It simplifies the maintenance of the application by keeping classes separated and preventing them from\n",
    "#               tightly coupling with each other.\n",
    "# Aesthetics: Bundling data and methods within a class makes code more readable and maintainable"
   ]
  },
  {
   "cell_type": "code",
   "execution_count": null,
   "metadata": {},
   "outputs": [],
   "source": []
  },
  {
   "cell_type": "code",
   "execution_count": null,
   "metadata": {},
   "outputs": [],
   "source": [
    "####inheritance\n",
    "# 1] Single inheritance\n",
    "# 2]Multiple Inheritance\n",
    "# 3]Multilevel inheritance\n",
    "# 4]Hierarchical Inheritance\n",
    "# 5]Hybrid Inheritance"
   ]
  },
  {
   "cell_type": "code",
   "execution_count": 22,
   "metadata": {},
   "outputs": [
    {
     "name": "stdout",
     "output_type": "stream",
     "text": [
      "Inside Vehicle class\n",
      "Inside Car class\n"
     ]
    }
   ],
   "source": [
    "# 1] Single inheritance\n",
    "\n",
    "# Base class\n",
    "class Vehicle:\n",
    "    def Vehicle_info(self):\n",
    "        print('Inside Vehicle class')\n",
    "\n",
    "# Child class\n",
    "class Car(Vehicle):\n",
    "    def car_info(self):\n",
    "        print('Inside Car class')\n",
    "\n",
    "# Create object of Car\n",
    "car = Car()\n",
    "\n",
    "# access Vehicle's info using car object\n",
    "car.Vehicle_info()\n",
    "car.car_info()\n"
   ]
  },
  {
   "cell_type": "code",
   "execution_count": 28,
   "metadata": {},
   "outputs": [
    {
     "name": "stdout",
     "output_type": "stream",
     "text": [
      "Inside the child class with two parent\n",
      "Name: child1 Age: 22\n",
      "Inside the second parent class\n",
      "Name: parent2 age: 55\n",
      "inside the parent class\n",
      "Name: parent1 Age: 40\n"
     ]
    }
   ],
   "source": [
    "# 2]Multiple Inheritance\n",
    "\n",
    "class parent:\n",
    "    def parent1_info(self , name , age):\n",
    "        print(\"inside the parent class\")\n",
    "        print(\"Name:\", name, \"Age:\", age)\n",
    "        \n",
    "class parent2:\n",
    "    def parent2_info(self, parent2_name, parent2_age):\n",
    "        print(\"Inside the second parent class\")\n",
    "        print(\"Name:\",parent2_name, \"age:\", parent2_age )\n",
    "\n",
    "class child(parent, parent2):\n",
    "    def child_info(self,child_name, child_age):\n",
    "        print(\"Inside the child class with two parent\")\n",
    "        print(\"Name:\",child_name , \"Age:\",child_age)\n",
    "        \n",
    "s1=child()\n",
    "s1.child_info(\"child1\",22)\n",
    "s1.parent2_info(\"parent2\",55)\n",
    "s1.parent1_info(\"parent1\",40)"
   ]
  },
  {
   "cell_type": "code",
   "execution_count": 29,
   "metadata": {},
   "outputs": [
    {
     "name": "stdout",
     "output_type": "stream",
     "text": [
      "Inside Vehicle class\n",
      "Inside Car class\n",
      "Inside SportsCar class\n"
     ]
    }
   ],
   "source": [
    "# 3]Multilevel inheritance\n",
    "\n",
    "# Base class\n",
    "class Vehicle:\n",
    "    def Vehicle_info(self):\n",
    "        print('Inside Vehicle class')\n",
    "\n",
    "# Child class\n",
    "class Car(Vehicle):\n",
    "    def car_info(self):\n",
    "        print('Inside Car class')\n",
    "\n",
    "# Child class\n",
    "class SportsCar(Car):\n",
    "    def sports_car_info(self):\n",
    "        print('Inside SportsCar class')\n",
    "\n",
    "# Create object of SportsCar\n",
    "s_car = SportsCar()\n",
    "\n",
    "# access Vehicle's and Car info using SportsCar object\n",
    "s_car.Vehicle_info()\n",
    "s_car.car_info()\n",
    "s_car.sports_car_info()\n"
   ]
  },
  {
   "cell_type": "code",
   "execution_count": 30,
   "metadata": {},
   "outputs": [
    {
     "name": "stdout",
     "output_type": "stream",
     "text": [
      "This is Vehicle\n",
      "Car name is: BMW\n",
      "This is Vehicle\n",
      "Truck name is: Ford\n"
     ]
    }
   ],
   "source": [
    "# 4]Hierarchical Inheritance\n",
    "\n",
    "class Vehicle:\n",
    "    def info(self):\n",
    "        print(\"This is Vehicle\")\n",
    "\n",
    "class Car(Vehicle):\n",
    "    def car_info(self, name):\n",
    "        print(\"Car name is:\", name)\n",
    "\n",
    "class Truck(Vehicle):\n",
    "    def truck_info(self, name):\n",
    "        print(\"Truck name is:\", name)\n",
    "\n",
    "obj1 = Car()\n",
    "obj1.info()\n",
    "obj1.car_info('BMW')\n",
    "\n",
    "obj2 = Truck()\n",
    "obj2.info()\n",
    "obj2.truck_info('Ford')\n"
   ]
  },
  {
   "cell_type": "code",
   "execution_count": 31,
   "metadata": {},
   "outputs": [
    {
     "name": "stdout",
     "output_type": "stream",
     "text": [
      "Inside Vehicle class\n",
      "Inside Car class\n",
      "Inside SportsCar class\n"
     ]
    }
   ],
   "source": [
    "# # 5]Hybrid Inheritance\n",
    "\n",
    "class Vehicle:\n",
    "    def vehicle_info(self):\n",
    "        print(\"Inside Vehicle class\")\n",
    "\n",
    "class Car(Vehicle):\n",
    "    def car_info(self):\n",
    "        print(\"Inside Car class\")\n",
    "\n",
    "class Truck(Vehicle):\n",
    "    def truck_info(self):\n",
    "        print(\"Inside Truck class\")\n",
    "\n",
    "# Sports Car can inherits properties of Vehicle and Car\n",
    "class SportsCar(Car, Vehicle):\n",
    "    def sports_car_info(self):\n",
    "        print(\"Inside SportsCar class\")\n",
    "\n",
    "# create object\n",
    "s_car = SportsCar()\n",
    "\n",
    "s_car.vehicle_info()\n",
    "s_car.car_info()\n",
    "s_car.sports_car_info()"
   ]
  },
  {
   "cell_type": "code",
   "execution_count": null,
   "metadata": {},
   "outputs": [],
   "source": []
  },
  {
   "cell_type": "code",
   "execution_count": 35,
   "metadata": {},
   "outputs": [
    {
     "name": "stdout",
     "output_type": "stream",
     "text": [
      "Details: Car x1 Red 20000\n",
      "Car max speed is 240\n",
      "Car change 7 gear\n",
      "Details: Truck x1 white 75000\n",
      "Vehicle max speed is 150\n",
      "Vehicle change 6 gear\n"
     ]
    }
   ],
   "source": [
    "\n",
    "class Vehicle:\n",
    "\n",
    "    def __init__(self, name, color, price):\n",
    "        self.name = name\n",
    "        self.color = color\n",
    "        self.price = price\n",
    "\n",
    "    def show(self):\n",
    "        print('Details:', self.name, self.color, self.price)\n",
    "\n",
    "    def max_speed(self):\n",
    "        print('Vehicle max speed is 150')\n",
    "\n",
    "    def change_gear(self):\n",
    "        print('Vehicle change 6 gear')\n",
    "\n",
    "\n",
    "# inherit from vehicle class\n",
    "class Car(Vehicle):\n",
    "    def max_speed(self):\n",
    "        print('Car max speed is 240')\n",
    "\n",
    "    def change_gear(self):\n",
    "        print('Car change 7 gear')\n",
    "\n",
    "\n",
    "# Car Object\n",
    "car = Car('Car x1', 'Red', 20000)\n",
    "car.show()\n",
    "# calls methods from Car class\n",
    "car.max_speed()\n",
    "car.change_gear()\n",
    "\n",
    "# Vehicle Object\n",
    "vehicle = Vehicle('Truck x1', 'white', 75000)\n",
    "vehicle.show()\n",
    "# calls method from a Vehicle class\n",
    "vehicle.max_speed()\n",
    "vehicle.change_gear()\n",
    "\n",
    "\n",
    "\n",
    "\n",
    "\n",
    "\n",
    "\n",
    "\n",
    "\n",
    "\n",
    "\n",
    "\n",
    "\n",
    "\n",
    "\n",
    "\n",
    "\n",
    "\n",
    "\n",
    "\n",
    "\n",
    "\n",
    "\n",
    "\n",
    "\n",
    "\n",
    "\n",
    "\n",
    "\n",
    "\n",
    "\n",
    "\n",
    "\n",
    "\n",
    "\n",
    "\n",
    "\n",
    "\n",
    "\n",
    "\n",
    "# class Vehicle:\n",
    "\n",
    "#     def __init__(self, name, color, price,max_speed,gear):\n",
    "#         self.name = name\n",
    "#         self.color = color\n",
    "#         self.price = price\n",
    "#         self.max_speed=max_speed\n",
    "#         self.gear=gear\n",
    "\n",
    "#     def show(self):\n",
    "#         print('Details:', self.name, self.color, self.price)\n",
    "\n",
    "#     def max_speed(self):\n",
    "#         print(f'Vehicle max speed is {self.max_speed}')\n",
    "\n",
    "#     def change_gear(self):\n",
    "#         print(f'Vehicle change  {self.gear}')\n",
    "\n",
    "\n",
    "# # inherit from vehicle class\n",
    "# class Car(Vehicle):\n",
    "#     def max_speed(self):\n",
    "#         print(f'Car max speed is {self.max_speed}')\n",
    "\n",
    "#     def change_gear(self):\n",
    "#         print(f'Car change  {self.gear}')\n",
    "\n",
    "\n",
    "# # Car Object\n",
    "# car = Car('Car x1', 'Red', 20000)\n",
    "# car.show()\n",
    "# # calls methods from Car class\n",
    "# car.max_speed()\n",
    "# car.change_gear()\n",
    "\n",
    "# # Vehicle Object\n",
    "# vehicle = Vehicle('Truck x1', 'white', 75000,200,7)\n",
    "# vehicle.show()\n",
    "# # calls method from a Vehicle class\n",
    "# vehicle.max_speed()\n",
    "# vehicle.change_gear()"
   ]
  },
  {
   "cell_type": "code",
   "execution_count": null,
   "metadata": {},
   "outputs": [],
   "source": []
  },
  {
   "cell_type": "code",
   "execution_count": null,
   "metadata": {},
   "outputs": [],
   "source": []
  },
  {
   "cell_type": "code",
   "execution_count": null,
   "metadata": {},
   "outputs": [],
   "source": []
  },
  {
   "cell_type": "markdown",
   "metadata": {},
   "source": [
    "# oops exercise"
   ]
  },
  {
   "cell_type": "code",
   "execution_count": 10,
   "metadata": {},
   "outputs": [
    {
     "name": "stdout",
     "output_type": "stream",
     "text": [
      "200\n",
      "35\n"
     ]
    }
   ],
   "source": [
    "# Create a Class with instance attributes\n",
    "class Vehicle:\n",
    "    def __init__(self,max_speed,milege):\n",
    "        self.max_speed=max_speed\n",
    "        self.milege=milege\n",
    "s1=Vehicle(200,35)\n",
    "print(s1.max_speed)\n",
    "print(s1.milege)"
   ]
  },
  {
   "cell_type": "code",
   "execution_count": 11,
   "metadata": {},
   "outputs": [],
   "source": [
    "# Create a Vehicle class without any variables and methods\n",
    "class Vehicle:\n",
    "    pass\n",
    "\n"
   ]
  },
  {
   "cell_type": "code",
   "execution_count": 15,
   "metadata": {},
   "outputs": [
    {
     "name": "stdout",
     "output_type": "stream",
     "text": [
      "The max speed is 200 and milege is 35\n"
     ]
    }
   ],
   "source": [
    "# Create a child class Bus that will inherit all of the \n",
    "# variables and methods of the Vehicle class\n",
    "\n",
    "class Vehicle:\n",
    "    def __init__(self,maxspeed,milege):\n",
    "        self.maxspeed=maxspeed\n",
    "        self.milege=milege\n",
    "    def show(self):\n",
    "        print(f\"The max speed is {self.maxspeed} and milege is {self.milege}\")\n",
    "        \n",
    "class bus(Vehicle):\n",
    "    pass\n",
    "s1=bus(200,35)\n",
    "s1.show()"
   ]
  },
  {
   "cell_type": "code",
   "execution_count": 21,
   "metadata": {},
   "outputs": [
    {
     "data": {
      "text/plain": [
       "'The seating capacity of a ferrari is 5 passengers'"
      ]
     },
     "execution_count": 21,
     "metadata": {},
     "output_type": "execute_result"
    }
   ],
   "source": [
    "class Vehicle:\n",
    "    def __init__(self, name, max_speed, mileage):\n",
    "        self.name = name\n",
    "        self.max_speed = max_speed\n",
    "        self.mileage = mileage\n",
    "\n",
    "    def seating_capacity(self, capacity):\n",
    "        return f\"The seating capacity of a {self.name} is {capacity} passengers\"\n",
    "    \n",
    "class bus(Vehicle):\n",
    "    def seating_capacity(self, capacity=5):\n",
    "        return super().seating_capacity(capacity=5)\n",
    "        \n",
    "\n",
    "s1=bus(\"ferrari\",200,2)\n",
    "\n",
    "s1.seating_capacity(2)"
   ]
  },
  {
   "cell_type": "code",
   "execution_count": null,
   "metadata": {},
   "outputs": [],
   "source": []
  },
  {
   "cell_type": "code",
   "execution_count": 5,
   "metadata": {},
   "outputs": [
    {
     "name": "stdout",
     "output_type": "stream",
     "text": [
      "This is 1st abstract clas calling\n",
      "This is 2nd abstract clas calling\n"
     ]
    }
   ],
   "source": [
    "#Abstraction\n",
    "\n",
    "\n",
    "from abc import ABC , abstractmethod\n",
    "#defining abstract class by inheriting the our abs class to ABC\n",
    "class abs(ABC):\n",
    "    #defining the abstract method without defining it\n",
    "    @abstractmethod\n",
    "    def show(self):\n",
    "        print(\"Hello world\")\n",
    "\n",
    "class std(ABC):\n",
    "    @abstractmethod\n",
    "    def work(self):\n",
    "        None\n",
    "        \n",
    "\n",
    "#for defining the our abstract class and abstract class we have to make or declare the concrete class \n",
    "\n",
    "#concrete class\n",
    "class con(abs,std):\n",
    "    #defining our abstract method using the concrete methods\n",
    "    #This is our concrete method\n",
    "    def show(self):\n",
    "        #Here is the defining part of the abstract method\n",
    "        print(\"This is 1st abstract clas calling\")\n",
    "        \n",
    "    #defining our abstract method using the concrete methods\n",
    "    #This is our concrete method\n",
    "    def work(self):\n",
    "        #Here is the defining part of the abstract method\n",
    "        print(\"This is 2nd abstract clas calling\")\n",
    "    \n",
    "s1=con()\n",
    "s1.show()\n",
    "s1.work()"
   ]
  },
  {
   "cell_type": "code",
   "execution_count": null,
   "metadata": {},
   "outputs": [],
   "source": [
    "#why we use the abstract class and method?\n",
    "# In Python, abstract base classes provide a blueprint for concrete classes. They don't contain implementation. \n",
    "# Instead, they provide an interface and make sure that derived concrete classes are properly implemented. \n",
    "# Abstract base classes cannot be instantiated."
   ]
  },
  {
   "cell_type": "code",
   "execution_count": 9,
   "metadata": {},
   "outputs": [
    {
     "data": {
      "text/plain": [
       "484"
      ]
     },
     "execution_count": 9,
     "metadata": {},
     "output_type": "execute_result"
    }
   ],
   "source": [
    "class jumbo(ABC):\n",
    "    def area(self):\n",
    "        None\n",
    "class rectangle(jumbo):\n",
    "    def __init__(self,side):\n",
    "        self.side=side\n",
    "    def area(self):\n",
    "        return  self.side*self.side\n",
    "s1=rectangle(22)\n",
    "s1.area()\n"
   ]
  },
  {
   "cell_type": "code",
   "execution_count": null,
   "metadata": {},
   "outputs": [],
   "source": []
  },
  {
   "cell_type": "code",
   "execution_count": null,
   "metadata": {},
   "outputs": [],
   "source": []
  },
  {
   "cell_type": "code",
   "execution_count": null,
   "metadata": {},
   "outputs": [],
   "source": []
  }
 ],
 "metadata": {
  "kernelspec": {
   "display_name": "Python 3",
   "language": "python",
   "name": "python3"
  },
  "language_info": {
   "codemirror_mode": {
    "name": "ipython",
    "version": 3
   },
   "file_extension": ".py",
   "mimetype": "text/x-python",
   "name": "python",
   "nbconvert_exporter": "python",
   "pygments_lexer": "ipython3",
   "version": "3.8.5"
  }
 },
 "nbformat": 4,
 "nbformat_minor": 4
}
