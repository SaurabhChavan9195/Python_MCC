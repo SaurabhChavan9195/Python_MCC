{
 "cells": [
  {
   "cell_type": "markdown",
   "metadata": {},
   "source": [
    "# 1] Iterables"
   ]
  },
  {
   "cell_type": "code",
   "execution_count": 40,
   "metadata": {},
   "outputs": [
    {
     "ename": "TypeError",
     "evalue": "'int' object is not iterable",
     "output_type": "error",
     "traceback": [
      "\u001b[1;31m---------------------------------------------------------------------------\u001b[0m",
      "\u001b[1;31mTypeError\u001b[0m                                 Traceback (most recent call last)",
      "\u001b[1;32m<ipython-input-40-b37e1c655271>\u001b[0m in \u001b[0;36m<module>\u001b[1;34m\u001b[0m\n\u001b[0;32m      1\u001b[0m \u001b[0ma\u001b[0m\u001b[1;33m=\u001b[0m \u001b[1;36m123\u001b[0m\u001b[1;33m\u001b[0m\u001b[1;33m\u001b[0m\u001b[0m\n\u001b[1;32m----> 2\u001b[1;33m \u001b[1;32mfor\u001b[0m \u001b[0mi\u001b[0m \u001b[1;32min\u001b[0m \u001b[0ma\u001b[0m\u001b[1;33m:\u001b[0m\u001b[1;33m\u001b[0m\u001b[1;33m\u001b[0m\u001b[0m\n\u001b[0m\u001b[0;32m      3\u001b[0m     \u001b[0mprint\u001b[0m\u001b[1;33m(\u001b[0m\u001b[0ma\u001b[0m\u001b[1;33m)\u001b[0m\u001b[1;33m\u001b[0m\u001b[1;33m\u001b[0m\u001b[0m\n\u001b[0;32m      4\u001b[0m \u001b[1;33m\u001b[0m\u001b[0m\n\u001b[0;32m      5\u001b[0m     \u001b[1;34m\"...................................................................\\\\\"\u001b[0m\u001b[1;33m\u001b[0m\u001b[1;33m\u001b[0m\u001b[0m\n",
      "\u001b[1;31mTypeError\u001b[0m: 'int' object is not iterable"
     ]
    }
   ],
   "source": [
    "a= 123\n",
    "for i in a:\n",
    "    print(a)\n",
    "\n",
    "    \"...................................................................\\\\\"\n",
    "    \n",
    "# This program will throw an error i.e int object is not iterbales because the base class of the int() \n",
    "# does not have the built in __iter__ Method."
   ]
  },
  {
   "cell_type": "code",
   "execution_count": 41,
   "metadata": {},
   "outputs": [
    {
     "name": "stdout",
     "output_type": "stream",
     "text": [
      "s\n",
      "a\n",
      "u\n",
      "r\n",
      "a\n",
      "b\n",
      "h\n"
     ]
    }
   ],
   "source": [
    "a=\"saurabh\"\n",
    "for i in a:\n",
    "    print(i)\n",
    "    \n",
    "# This program will successfully executed because the base class of str() has the built in __iter__ method\"\"\""
   ]
  },
  {
   "cell_type": "markdown",
   "metadata": {},
   "source": [
    "# 2] Iterator"
   ]
  },
  {
   "cell_type": "code",
   "execution_count": 42,
   "metadata": {},
   "outputs": [
    {
     "name": "stdout",
     "output_type": "stream",
     "text": [
      "1\n",
      "2\n",
      "3\n",
      "4\n",
      "5\n",
      "65\n",
      "7\n"
     ]
    }
   ],
   "source": [
    "a=iter([1,2,3,4,5,65,7])\n",
    "\n",
    "#here it will iter only first element of our list\n",
    "print(next(a))\n",
    "\n",
    "\n",
    "#here it will iter second element of the list because it will remeber the last state of memory where the iteration is stop.\n",
    "print(next(a))\n",
    "\n",
    "print(next(a))\n",
    "print(next(a))\n",
    "print(next(a))\n",
    "print(next(a))\n",
    "print(next(a))\n",
    "\n"
   ]
  },
  {
   "cell_type": "markdown",
   "metadata": {},
   "source": [
    "# 3] Difference between iterable and iterator\n",
    "--> Iterable has __iter__().\n",
    "\n",
    "-->Iterator has __iter__() & __next__()"
   ]
  },
  {
   "cell_type": "code",
   "execution_count": 43,
   "metadata": {},
   "outputs": [
    {
     "name": "stdout",
     "output_type": "stream",
     "text": [
      "1\n",
      "2\n",
      "3\n",
      "-----\n",
      "1\n",
      "2\n",
      "3\n",
      "-----\n"
     ]
    }
   ],
   "source": [
    "# Use iterables in for-loops for multiple times\n",
    "number_iterable = [1, 2, 3]\n",
    "for i in number_iterable:\n",
    "     print(i)\n",
    "print('-----')\n",
    "for i in number_iterable:\n",
    "    print(i)\n",
    "print('-----')\n",
    "#In above it|erable program if we run the for loop we will get the iteration again again.\n",
    "\n",
    "\n"
   ]
  },
  {
   "cell_type": "code",
   "execution_count": 44,
   "metadata": {},
   "outputs": [
    {
     "name": "stdout",
     "output_type": "stream",
     "text": [
      "1\n",
      "2\n",
      "3\n"
     ]
    }
   ],
   "source": [
    "# Use iterators in for-loops for multiple times\n",
    "number_iterator = iter([1, 2, 3])\n",
    "for i in number_iterator:\n",
    "     print(i)\n",
    "# print('-----')\n",
    "for i in number_iterator:\n",
    "     print(i)\n",
    "# # In above example if we once use the __iter__() then if we use the for loop it will execute one time , \n",
    "# if again use the for loop for same object then it doesnot show output"
   ]
  },
  {
   "cell_type": "code",
   "execution_count": 45,
   "metadata": {},
   "outputs": [
    {
     "name": "stdout",
     "output_type": "stream",
     "text": [
      "a\n",
      "r\n",
      "b\n",
      "a\n"
     ]
    }
   ],
   "source": [
    "a=iter(\"saurabh\")\n",
    "for i in a:\n",
    "    print(next(a))\n"
   ]
  },
  {
   "cell_type": "markdown",
   "metadata": {},
   "source": [
    "# 4] Generator"
   ]
  },
  {
   "cell_type": "code",
   "execution_count": 46,
   "metadata": {},
   "outputs": [
    {
     "name": "stdout",
     "output_type": "stream",
     "text": [
      "1\n",
      "4\n",
      "9\n",
      "16\n",
      "25\n",
      "36\n",
      "49\n",
      "64\n",
      "81\n",
      "100\n"
     ]
    }
   ],
   "source": [
    "def square():\n",
    "    i=1\n",
    "    while True:\n",
    "        yield i*i\n",
    "        i+=1\n",
    "# var=square()\n",
    "# print(type(var))\n",
    "\n",
    "for num in square():\n",
    "    if num >100:\n",
    "        break\n",
    "    print(num)"
   ]
  },
  {
   "cell_type": "code",
   "execution_count": 47,
   "metadata": {},
   "outputs": [
    {
     "name": "stdout",
     "output_type": "stream",
     "text": [
      "2\n",
      "4\n",
      "8\n",
      "16\n",
      "32\n"
     ]
    }
   ],
   "source": [
    "# Program to print the Power of two up to the given number\n",
    "def PowerTwoGen( max=0 ):\n",
    "    n = 1\n",
    "    while n < max:\n",
    "        yield 2 ** n\n",
    "        n += 1\n",
    "\n",
    "a = PowerTwoGen(6)\n",
    "\n",
    "# Printing the values stored in a\n",
    "for i in a:\n",
    "     print(i)"
   ]
  },
  {
   "cell_type": "code",
   "execution_count": null,
   "metadata": {},
   "outputs": [],
   "source": []
  },
  {
   "cell_type": "markdown",
   "metadata": {},
   "source": [
    "# 5] Filter"
   ]
  },
  {
   "cell_type": "code",
   "execution_count": 48,
   "metadata": {},
   "outputs": [
    {
     "name": "stdout",
     "output_type": "stream",
     "text": [
      "45\n"
     ]
    }
   ],
   "source": [
    "ages=[5,12,13,45]\n",
    "\n",
    "def my(x):\n",
    "    if x<18:\n",
    "        return False\n",
    "    else:\n",
    "        return True\n",
    "a= filter(my,ages)\n",
    "\n",
    "for x in a:\n",
    "    print(x)"
   ]
  },
  {
   "cell_type": "markdown",
   "metadata": {},
   "source": [
    "# 6] Map\n"
   ]
  },
  {
   "cell_type": "code",
   "execution_count": 49,
   "metadata": {},
   "outputs": [
    {
     "name": "stdout",
     "output_type": "stream",
     "text": [
      "[2, 4, 6, 8, 10]\n"
     ]
    }
   ],
   "source": [
    "def addition(n):\n",
    "    return n+n\n",
    "number=(1,2,3,4,5)\n",
    "result=map(addition,number)\n",
    "print(list(result))"
   ]
  },
  {
   "cell_type": "markdown",
   "metadata": {},
   "source": [
    "# 7] zip\n"
   ]
  },
  {
   "cell_type": "code",
   "execution_count": 50,
   "metadata": {},
   "outputs": [
    {
     "name": "stdout",
     "output_type": "stream",
     "text": [
      "[(1, 5), (2, 6), (3, 7), (4, 8)]\n"
     ]
    }
   ],
   "source": [
    "a=[1,2,3,4]\n",
    "b=[5,6,7,8]\n",
    "\n",
    "x=zip(a,b)\n",
    "print(list(x))"
   ]
  },
  {
   "cell_type": "markdown",
   "metadata": {},
   "source": [
    "# 8] Reduce"
   ]
  },
  {
   "cell_type": "code",
   "execution_count": 51,
   "metadata": {},
   "outputs": [
    {
     "name": "stdout",
     "output_type": "stream",
     "text": [
      "365\n"
     ]
    }
   ],
   "source": [
    "from functools import reduce\n",
    "\n",
    "def sum(a, b):\n",
    "#     print(f\"a={a}, b={b}, {a} + {b} ={a+b}\")\n",
    "    return a + b\n",
    "\n",
    "\n",
    "scores = [75, 65, 80, 95, 50]\n",
    "total = reduce(sum, scores)\n",
    "print(total)\n",
    "\n",
    "\n",
    "# from functools import reduce\n",
    "# # calculates the product of two elements\n",
    "# def product(x,y):\n",
    "#     return x*y\n",
    "\n",
    "# ans = reduce(product, [2, 5, 3, 7])\n",
    "# # print(ans)\n"
   ]
  },
  {
   "cell_type": "markdown",
   "metadata": {},
   "source": [
    "# 9] Join\n"
   ]
  },
  {
   "cell_type": "code",
   "execution_count": 52,
   "metadata": {},
   "outputs": [
    {
     "name": "stdout",
     "output_type": "stream",
     "text": [
      "a+b+c\n"
     ]
    }
   ],
   "source": [
    "e=['a','b','c']\n",
    "str1=\"+\"\n",
    "l=str1.join(e)\n",
    "print(l)\n"
   ]
  },
  {
   "cell_type": "markdown",
   "metadata": {},
   "source": [
    "# 10] Enumerate"
   ]
  },
  {
   "cell_type": "code",
   "execution_count": 53,
   "metadata": {},
   "outputs": [
    {
     "name": "stdout",
     "output_type": "stream",
     "text": [
      "[(0, 'hi'), (1, 'by')]\n"
     ]
    }
   ],
   "source": [
    "lis=[\"hi\",\"by\"]\n",
    "l1=enumerate(lis)\n",
    "print(list(l1))"
   ]
  },
  {
   "cell_type": "markdown",
   "metadata": {},
   "source": [
    "# 11] Lambda"
   ]
  },
  {
   "cell_type": "code",
   "execution_count": 54,
   "metadata": {},
   "outputs": [
    {
     "name": "stdout",
     "output_type": "stream",
     "text": [
      "20\n"
     ]
    }
   ],
   "source": [
    "x=lambda a: a+10\n",
    "print(x(10))\n",
    "\n",
    "\n",
    "\n",
    "\n",
    "\n",
    "y=[2,4,5,6,78,8]"
   ]
  },
  {
   "cell_type": "markdown",
   "metadata": {},
   "source": [
    "# 12] list comprehension"
   ]
  },
  {
   "cell_type": "code",
   "execution_count": 55,
   "metadata": {},
   "outputs": [
    {
     "name": "stdout",
     "output_type": "stream",
     "text": [
      "['apple', 'banana']\n"
     ]
    }
   ],
   "source": [
    "fruits=[\"apple\",\"banana\",\"kiwi\"]\n",
    "new1=[x for x in fruits if \"a\" in x]\n",
    "print(new1)"
   ]
  },
  {
   "cell_type": "markdown",
   "metadata": {},
   "source": [
    "# 13] Dictionary Comprehension\n"
   ]
  },
  {
   "cell_type": "code",
   "execution_count": 6,
   "metadata": {},
   "outputs": [
    {
     "name": "stdout",
     "output_type": "stream",
     "text": [
      "{1: 1, 2: 4, 3: 9, 4: 16, 5: 25}\n",
      "{'a': 1, 'b': 2, 'c': 3}\n"
     ]
    }
   ],
   "source": [
    "mydict={x:x**2 for x in [1,2,3,4,5]}\n",
    "print(mydict)\n",
    "\n",
    "\n",
    "\n",
    "#2nd example\n",
    "keys=[\"a\",\"b\",\"c\"]\n",
    "values=[1,2,3]\n",
    "\n",
    "\n",
    "b={k:v for (k,v) in zip(keys,values)  }\n",
    "print(b)"
   ]
  },
  {
   "cell_type": "markdown",
   "metadata": {},
   "source": [
    "# 14] set Comprehension"
   ]
  },
  {
   "cell_type": "code",
   "execution_count": 57,
   "metadata": {},
   "outputs": [
    {
     "name": "stdout",
     "output_type": "stream",
     "text": [
      "{8, 2, 4, 6}\n"
     ]
    }
   ],
   "source": [
    "set1={1,2,3,4,5,6,7,2,2,4,6,8}\n",
    "set2={var for var in set1 if var%2==0}\n",
    "print(set2)"
   ]
  },
  {
   "cell_type": "markdown",
   "metadata": {},
   "source": [
    "# 15] Bisect"
   ]
  },
  {
   "cell_type": "code",
   "execution_count": 10,
   "metadata": {},
   "outputs": [
    {
     "name": "stdout",
     "output_type": "stream",
     "text": [
      "5\n",
      "[1, 2, 3, 4, 5, 6, 7, 8, 9]\n"
     ]
    }
   ],
   "source": [
    "#bisect_left\n",
    "\n",
    "import bisect\n",
    "a=[1,2,3,4,5,7,8,9]\n",
    "\n",
    "b=6\n",
    "\n",
    "#here we can use bisect.bisect OR bisect.bisect_left because by default bisect_left is bisect.\n",
    "# i=bisect.bisect(a,b)\n",
    "i=bisect.bisect_left(a,b)\n",
    "print(i)\n",
    "\n",
    "\n",
    "#here by using insert method the b=6 value will be add at the position given by i object (bisect module)\n",
    "a.insert(i,b)\n",
    "\n",
    "print(a)\n",
    "\n"
   ]
  },
  {
   "cell_type": "code",
   "execution_count": 28,
   "metadata": {},
   "outputs": [
    {
     "name": "stdout",
     "output_type": "stream",
     "text": [
      "Bisect_left: 3\n",
      "Bisect Right: 5\n",
      "[2, 4, 6, 7, 8, 11, 10, 12, 18]\n"
     ]
    }
   ],
   "source": [
    "#bisect right\n",
    "a=[2,4,6,8,10,12,18]\n",
    "\n",
    "b=11\n",
    "c=7\n",
    "# This bisect left will add the element c=6 from left side of the sorted list\n",
    "j=bisect.bisect_left(a,c)\n",
    "\n",
    "# This bisect right will add the element b=6 from right side of the sorted list i.e it will start from end of the list\n",
    "i=bisect.bisect_right(a,b)\n",
    "\n",
    "print(\"Bisect_left:\", j)\n",
    "print(\"Bisect Right:\",i)\n",
    "\n",
    "# insert the element fron left side\n",
    "a.insert(j,c)\n",
    "\n",
    "#insert the element from right side\n",
    "a.insert(i,b)\n",
    "\n",
    "print(a)\n",
    "\n"
   ]
  },
  {
   "cell_type": "code",
   "execution_count": 30,
   "metadata": {},
   "outputs": [
    {
     "name": "stdout",
     "output_type": "stream",
     "text": [
      "3\n"
     ]
    }
   ],
   "source": [
    "a=[\"alex\",\"bhai\",\"chaman\",\"elephant\"]\n",
    "c=\"dad\"\n",
    "\n",
    "i=bisect.bisect_left(a,c)\n",
    "print(i)"
   ]
  },
  {
   "cell_type": "code",
   "execution_count": 44,
   "metadata": {},
   "outputs": [
    {
     "name": "stdout",
     "output_type": "stream",
     "text": [
      "Ford\n",
      "BMW\n",
      "['Ford', 'BMW']\n"
     ]
    }
   ],
   "source": [
    "cars=[\"Ford\",\"Mitsubishi\",\"BMW\",\"Vw\"]\n",
    "sorted_car=[]\n",
    "\n",
    "for i in cars[0:3]:\n",
    "    b=len(i)\n",
    "    for j in cars[1:3]:\n",
    "        c=len(j)\n",
    "        if b<c:\n",
    "            print(i)\n",
    "            sorted_car.append(i)\n",
    "        \n",
    "print(sorted_car)\n",
    "            \n"
   ]
  },
  {
   "cell_type": "code",
   "execution_count": null,
   "metadata": {},
   "outputs": [],
   "source": [
    "#doubt for lo and hi in bisect module\n",
    "\n",
    "\n",
    "a=[1,2,3,4,5,7,7,7,7,7,7,7,7,7,7,7,7,7,7,7,8,9,9,10]\n",
    "c=7\n",
    "j=bisect.bisect_right(a,c,lo=2, hi=23)\n",
    "print(j)"
   ]
  },
  {
   "cell_type": "code",
   "execution_count": 31,
   "metadata": {},
   "outputs": [
    {
     "name": "stdout",
     "output_type": "stream",
     "text": [
      "<list_iterator object at 0x000001A1D8997A00>\n"
     ]
    }
   ],
   "source": [
    "a=[1,2,3,4,5]\n",
    "b=iter(a)\n",
    "print(b)"
   ]
  },
  {
   "cell_type": "code",
   "execution_count": 60,
   "metadata": {},
   "outputs": [
    {
     "name": "stdout",
     "output_type": "stream",
     "text": [
      "Function: daily_backup\n",
      "Run on: 2022-06-03 17:29:51\n",
      "------------------------------\n",
      "Daily backup job has finished.\n"
     ]
    }
   ],
   "source": [
    "from datetime import datetime\n",
    "\n",
    "\n",
    "def log_datetime(func):\n",
    "    '''Log the date and time of a function'''\n",
    "\n",
    "    def wrapper():\n",
    "        print(f'Function: {func.__name__}\\nRun on: {datetime.today().strftime(\"%Y-%m-%d %H:%M:%S\")}')\n",
    "        print(f'{\"-\"*30}')\n",
    "        func()\n",
    "    return wrapper\n",
    "\n",
    "\n",
    "@log_datetime\n",
    "def daily_backup(): #2nd after calling t\n",
    "\n",
    "    print('Daily backup job has finished.')   \n",
    "\n",
    "     \n",
    "daily_backup() #1st step program will start here for execution"
   ]
  },
  {
   "cell_type": "code",
   "execution_count": null,
   "metadata": {},
   "outputs": [],
   "source": []
  },
  {
   "cell_type": "code",
   "execution_count": 14,
   "metadata": {},
   "outputs": [
    {
     "name": "stdout",
     "output_type": "stream",
     "text": [
      "7445\n",
      "262\n"
     ]
    }
   ],
   "source": [
    "a=\"data:image/png;base64,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\"\n",
    "print(len(a))    \n",
    "x=a.lower()\n",
    "z=[]\n",
    "for i in x:\n",
    "    if i==\"a\":\n",
    "        z.append(i)\n",
    "print(len(z))"
   ]
  },
  {
   "cell_type": "code",
   "execution_count": 14,
   "metadata": {},
   "outputs": [
    {
     "name": "stdout",
     "output_type": "stream",
     "text": [
      "1 12 3 4\n"
     ]
    },
    {
     "data": {
      "text/plain": [
       "[2, 288, 18, 32]"
      ]
     },
     "execution_count": 14,
     "metadata": {},
     "output_type": "execute_result"
    }
   ],
   "source": [
    "# #task 1\n",
    "# a=[1,2,3,4]\n",
    "# def addition(n):\n",
    "#     z=n+n\n",
    "#     return z*n\n",
    "\n",
    "# var=list(map(addition,a))\n",
    "# print(var)\n",
    "\n",
    "\n",
    "\n",
    "def add():\n",
    "    return lambda x:  x+x\n",
    "\n",
    "def sqr():\n",
    "    return lambda x: x*x\n",
    "\n",
    "func=[add(),sqr()]\n",
    "arr=list(map(int,input().strip().split(\" \")))\n",
    "def cmap(func,arr):\n",
    "    result=list(map(func[1],arr))\n",
    "    final=list(map(func[0],result))\n",
    "    \n",
    "    return final\n",
    "\n",
    "cmap(func,arr)\n",
    "\n",
    "\n",
    "\n",
    "\n",
    "\n",
    "\n",
    "\n",
    "\n",
    "\n",
    "\n"
   ]
  },
  {
   "cell_type": "code",
   "execution_count": 11,
   "metadata": {
    "scrolled": true
   },
   "outputs": [
    {
     "name": "stdout",
     "output_type": "stream",
     "text": [
      "Invalid division|| number can not be divisible by 0\n"
     ]
    }
   ],
   "source": [
    "# task2\n",
    "def divise(func):\n",
    "    def check(a,b):\n",
    "      \n",
    "        if b==0:\n",
    "            print(\"Invalid division|| number can not be divisible by 0\")\n",
    "        else:\n",
    "            return func(a,b)\n",
    "    return check\n",
    "\n",
    "@divise\n",
    "def division(a,b):\n",
    "    c=a/b\n",
    "    print(c)\n",
    "\n",
    "    \n",
    "div1=divise(division)\n",
    "div1(5,0)\n",
    "                \n",
    "                \n",
    "    "
   ]
  },
  {
   "cell_type": "code",
   "execution_count": 60,
   "metadata": {},
   "outputs": [
    {
     "name": "stdout",
     "output_type": "stream",
     "text": [
      "[{'car': 'BMW', 'year': 2000}, {'car': 'vw', 'year': 2000}, {'car': 'mitsubishi', 'year': 2001}, {'car': 'ford', 'year': 2005}]\n",
      "[{'car': 'BMW', 'year': 2000}, {'car': 'vw', 'year': 2000}, {'car': 'mitsubishi', 'year': 2001}, {'car': 'ford', 'year': 2005}]\n"
     ]
    }
   ],
   "source": [
    "cars=[\n",
    "    {\"car\":\"ford\" , \"year\":2005},\n",
    "    {\"car\":\"mitsubishi\" , \"year\":2001},\n",
    "    {\"car\":\"BMW\" , \"year\":2000},\n",
    "    {\"car\":\"vw\" , \"year\":2000}\n",
    "]\n",
    "\n",
    "\n",
    "def myfunc(e):\n",
    "    return e['year']\n",
    "\n",
    "a=sorted(cars,key=lambda i: (i['year'],i['car']))\n",
    "cars.sort(key=lambda i: (i['year'],i['car']))\n",
    "print(a)\n",
    "print(cars)"
   ]
  },
  {
   "cell_type": "code",
   "execution_count": 63,
   "metadata": {},
   "outputs": [
    {
     "name": "stdout",
     "output_type": "stream",
     "text": [
      "['VW', 'BMW', 'Ford', 'Mitsubishi']\n",
      "['VW', 'BMW', 'Ford', 'Mitsubishi']\n"
     ]
    }
   ],
   "source": [
    "\n",
    "def len_sort(a):\n",
    "    n = len(a)\n",
    "    for i in range(n):\n",
    "        for j in range(i+1,n):\n",
    "            if len(a[i]) > len(a[j]):\n",
    "                temp = a[i]\n",
    "                a[i] = a[j]\n",
    "                a[j] = temp\n",
    "    return a\n",
    "print(len_sort(['Ford', 'Mitsubishi', 'BMW', 'VW']))\n",
    "\n",
    "\n",
    "\n",
    "\n",
    "\n",
    "def myfunc(e):\n",
    "    return len(e)\n",
    "\n",
    "cars=['Ford', 'Mitsubishi', 'BMW', 'VW']\n",
    "\n",
    "cars.sort(key=myfunc)\n",
    "print(cars)"
   ]
  },
  {
   "cell_type": "code",
   "execution_count": 66,
   "metadata": {},
   "outputs": [
    {
     "name": "stdout",
     "output_type": "stream",
     "text": [
      "<class 'dict'>\n"
     ]
    }
   ],
   "source": [
    "a={}\n",
    "print(type(a))"
   ]
  },
  {
   "cell_type": "code",
   "execution_count": 67,
   "metadata": {},
   "outputs": [
    {
     "name": "stdout",
     "output_type": "stream",
     "text": [
      "<class 'NoneType'>\n"
     ]
    }
   ],
   "source": [
    "a=None\n",
    "print(type(a))"
   ]
  },
  {
   "cell_type": "code",
   "execution_count": null,
   "metadata": {},
   "outputs": [],
   "source": []
  },
  {
   "cell_type": "code",
   "execution_count": 69,
   "metadata": {},
   "outputs": [
    {
     "name": "stdout",
     "output_type": "stream",
     "text": [
      "4\n"
     ]
    }
   ],
   "source": [
    "a=14\n",
    "b=4\n",
    "print(a and b)"
   ]
  },
  {
   "cell_type": "code",
   "execution_count": 73,
   "metadata": {},
   "outputs": [
    {
     "name": "stdout",
     "output_type": "stream",
     "text": [
      "0\n",
      "13\n"
     ]
    }
   ],
   "source": [
    "a=8\n",
    "b=5\n",
    "print(b & a)\n",
    "print(8^5)"
   ]
  },
  {
   "cell_type": "code",
   "execution_count": 74,
   "metadata": {},
   "outputs": [
    {
     "data": {
      "text/plain": [
       "256"
      ]
     },
     "execution_count": 74,
     "metadata": {},
     "output_type": "execute_result"
    }
   ],
   "source": [
    "2**8\n"
   ]
  },
  {
   "cell_type": "code",
   "execution_count": null,
   "metadata": {},
   "outputs": [],
   "source": []
  }
 ],
 "metadata": {
  "kernelspec": {
   "display_name": "Python 3",
   "language": "python",
   "name": "python3"
  },
  "language_info": {
   "codemirror_mode": {
    "name": "ipython",
    "version": 3
   },
   "file_extension": ".py",
   "mimetype": "text/x-python",
   "name": "python",
   "nbconvert_exporter": "python",
   "pygments_lexer": "ipython3",
   "version": "3.8.5"
  }
 },
 "nbformat": 4,
 "nbformat_minor": 4
}
