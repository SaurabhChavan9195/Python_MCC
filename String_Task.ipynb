{
 "cells": [
  {
   "cell_type": "markdown",
   "metadata": {},
   "source": [
    "# To find the duplicate characters in a given string?\n"
   ]
  },
  {
   "cell_type": "code",
   "execution_count": 4,
   "metadata": {},
   "outputs": [
    {
     "name": "stdout",
     "output_type": "stream",
     "text": [
      "m 2\n",
      "m 2\n"
     ]
    }
   ],
   "source": [
    "# var = \"Hello world\";  \n",
    "   \n",
    "\n",
    "# for i in range(0, len(var)):  \n",
    "#     count = 1;  \n",
    "#     for j in range(i+1, len(var)):  \n",
    "#         if(var[i] == var[j]):  \n",
    "#             count = count + 1;    \n",
    "#             var = var[:j] + \" \" + var[j+1:];  \n",
    "            \n",
    "#     if(count > 1):  \n",
    "#         print(var[i]); \n",
    "        \n",
    "        \n",
    "        \n",
    "str=\"mumbai\"\n",
    "\n",
    "for char in str:\n",
    "    count=str.count(char)\n",
    "    if count>1:\n",
    "        print(char,count)\n",
    "        \n",
    "c\n",
    "    \n",
    "    "
   ]
  },
  {
   "cell_type": "markdown",
   "metadata": {},
   "source": [
    "\n",
    "# To check whether a given string is a palindrome"
   ]
  },
  {
   "cell_type": "code",
   "execution_count": 6,
   "metadata": {},
   "outputs": [
    {
     "name": "stdout",
     "output_type": "stream",
     "text": [
      "\n"
     ]
    }
   ],
   "source": [
    "str=\"zaz\"\n",
    "print(str[-1:0])\n",
    "# var=reversed(str)\n",
    "\n",
    "# if list(str)==list(var):\n",
    "#     print(\"Its is palindrome\")\n",
    "# else:\n",
    "#     print(\"It is not palindrome\")\n",
    "\n",
    "\n",
    "\n",
    "\n"
   ]
  },
  {
   "cell_type": "markdown",
   "metadata": {},
   "source": [
    "# To capitalize the first character in a given sentence"
   ]
  },
  {
   "cell_type": "code",
   "execution_count": 11,
   "metadata": {},
   "outputs": [
    {
     "name": "stdout",
     "output_type": "stream",
     "text": [
      "Hello\n"
     ]
    }
   ],
   "source": [
    "str= \"hello\"\n",
    "print(str.capitalize())"
   ]
  },
  {
   "cell_type": "markdown",
   "metadata": {},
   "source": [
    "# Program to convert String to a List.\n"
   ]
  },
  {
   "cell_type": "code",
   "execution_count": 13,
   "metadata": {},
   "outputs": [
    {
     "name": "stdout",
     "output_type": "stream",
     "text": [
      "['T', 'h', 'i', 's', ' ', 'i', 's', ' ', 'm', 'u', 'm', 'b', 'a', 'i', ' ', 'c', 'o', 'd', 'i', 'n', 'g', ' ', 'c', 'l', 'u', 'b']\n"
     ]
    }
   ],
   "source": [
    "str=\"This is mumbai coding club\"\n",
    "var= list(str)\n",
    "print(var)\n"
   ]
  },
  {
   "cell_type": "markdown",
   "metadata": {},
   "source": [
    "# To sort alphabetically the words in a given sentence"
   ]
  },
  {
   "cell_type": "code",
   "execution_count": 18,
   "metadata": {},
   "outputs": [
    {
     "name": "stdout",
     "output_type": "stream",
     "text": [
      "hello saurabh chava\n",
      "chava\n",
      "hello\n",
      "saurabh\n"
     ]
    }
   ],
   "source": [
    "var=input()\n",
    "a= var.split()\n",
    "a.sort()\n",
    "\n",
    "for vars in  a:\n",
    "    print(vars)\n"
   ]
  },
  {
   "cell_type": "markdown",
   "metadata": {},
   "source": [
    "# To demonstrate any 10 function(method) of string class"
   ]
  },
  {
   "cell_type": "code",
   "execution_count": 42,
   "metadata": {},
   "outputs": [
    {
     "name": "stdout",
     "output_type": "stream",
     "text": [
      "hello world\n",
      "HELLO WORLD\n",
      "Hello World\n",
      "Hello world\n",
      "False\n",
      "1\n"
     ]
    }
   ],
   "source": [
    "str=\"hello world\"\n",
    "print(str.lower())\n",
    "print(str.upper())\n",
    "print(str.title())\n",
    "print(str.capitalize())\n",
    "print(str.isspace())"
   ]
  },
  {
   "cell_type": "markdown",
   "metadata": {},
   "source": [
    "# To count no. of vowels in a given program"
   ]
  },
  {
   "cell_type": "code",
   "execution_count": 50,
   "metadata": {},
   "outputs": [
    {
     "name": "stdout",
     "output_type": "stream",
     "text": [
      "3 Hello world\n"
     ]
    }
   ],
   "source": [
    "var = \"Hello world\"\n",
    "a= [\"a\",\"e\",\"i\",\"o\",\"u\"]\n",
    "count=0\n",
    "for i in var:\n",
    "    if i in a:\n",
    "        count=count+1\n",
    "print(count, )"
   ]
  },
  {
   "cell_type": "code",
   "execution_count": 17,
   "metadata": {},
   "outputs": [],
   "source": [
    "\n",
    "\n",
    "  "
   ]
  },
  {
   "cell_type": "markdown",
   "metadata": {},
   "source": [
    "# To implement a Caesar cipher in python"
   ]
  },
  {
   "cell_type": "code",
   "execution_count": 5,
   "metadata": {},
   "outputs": [
    {
     "name": "stdout",
     "output_type": "stream",
     "text": [
      "Enter your message: shahdab\n",
      "Enter your key:10\n",
      "#rkrnkl\n",
      "shahdab\n"
     ]
    }
   ],
   "source": [
    "message=input(\"Enter your message: \")\n",
    "key=int(input(\"Enter your key:\"))\n",
    "\n",
    "var=\"abcdefghijklmnopqrstuvwxyz!@#$%^&*()}{][|\\;:.<>,1234567890 \"\n",
    "\n",
    "encrypt=\"\"\n",
    "decrypt=\"\"\n",
    "for i in message:\n",
    "    position=var.find(i)\n",
    "    newposition=(position+key)%59\n",
    "    encrypt+=var[newposition]\n",
    "print(encrypt)    \n",
    "\n",
    "\n",
    "for i in encrypt:\n",
    "    pos=var.find(i)\n",
    "    newposition=(pos-key)%59\n",
    "    decrypt+=var[newposition]\n",
    "print(decrypt)\n",
    "\n",
    "\n"
   ]
  },
  {
   "cell_type": "code",
   "execution_count": 20,
   "metadata": {},
   "outputs": [
    {
     "name": "stdout",
     "output_type": "stream",
     "text": [
      "abcde a\n"
     ]
    }
   ],
   "source": [
    "'''Expected output:\n",
    "    a,b,c,d,e,f\n",
    "    f,a,b,c,d,e\n",
    "    e,f,a,b,c,d\n",
    "    d,e,f,a,b,c\n",
    "    c,d,e,f,a,b\n",
    "    b,c,d,e,f,a\n",
    "    a,b,c,d,e,f'''\n",
    "\n",
    "\n",
    "a = \" abcdef\"\n",
    "b=len(a)\n",
    "key=1\n",
    "var=\"\"\n",
    "\n",
    "# for i in range(b):\n",
    "for j in a:\n",
    "    pos=a.find(j)\n",
    "    new_pos=(pos+key)%6\n",
    "    var+=a[new_pos]\n",
    "#     key=key+i\n",
    "    \n",
    "print(var)\n",
    "    \n",
    "    "
   ]
  },
  {
   "cell_type": "code",
   "execution_count": 30,
   "metadata": {},
   "outputs": [
    {
     "name": "stdout",
     "output_type": "stream",
     "text": [
      "Enter your message: abcdef\n",
      "['f', 'a', 'b', 'c', 'd', 'e', 'f', 'a', 'b', 'c', 'd', 'e', 'f', 'a', 'b', 'c', 'd', 'e', 'f', 'a', 'b', 'c', 'd', 'e', 'f', 'a', 'b', 'c', 'd', 'e', 'f', 'a', 'b', 'c', 'd', 'e'] \n",
      "\n"
     ]
    }
   ],
   "source": [
    "# message=(input(\"Enter your message: \"))\n",
    "# key=5\n",
    "# var=[\"a\",\"b\",\"c\",\"d\",\"e\",\"f\"]\n",
    "# encrypt=[]\n",
    "# var1=[]\n",
    "# b=len(message)\n",
    "    \n",
    "message=input(\"Enter your message: \")\n",
    "key=5\n",
    "var=\"abcdef\"\n",
    "encrypt=[]\n",
    "b=len(message)\n",
    "for j in range(b):\n",
    "    for i in message:\n",
    "        position=var.find(i)\n",
    "        newposition=(position+key)%6\n",
    "        encrypt+=var[newposition]\n",
    "\n",
    "print(encrypt, \"\\n\") "
   ]
  },
  {
   "cell_type": "markdown",
   "metadata": {},
   "source": [
    "# To demonstrate string slice"
   ]
  },
  {
   "cell_type": "code",
   "execution_count": 24,
   "metadata": {
    "scrolled": true
   },
   "outputs": [
    {
     "name": "stdout",
     "output_type": "stream",
     "text": [
      "rab\n",
      "aurabhchavan\n",
      "sau\n",
      "n\n",
      "\n"
     ]
    }
   ],
   "source": [
    "z=\"saurabhchavan\"\n",
    "print(z[3:6])\n",
    "print(z[1:])\n",
    "print(z[:3])\n",
    "print(z[-1:])\n",
    "\n"
   ]
  },
  {
   "cell_type": "markdown",
   "metadata": {},
   "source": [
    "# To check substring is Present in a Given String"
   ]
  },
  {
   "cell_type": "code",
   "execution_count": 48,
   "metadata": {},
   "outputs": [
    {
     "name": "stdout",
     "output_type": "stream",
     "text": [
      "Yes it is.\n"
     ]
    }
   ],
   "source": [
    "str=\"saurabh rajendra chavan\"\n",
    "str1=\"chavan\"\n",
    "if str.find(str1):\n",
    "    print(\"Yes it is.\")\n",
    "else:\n",
    "    print(\"No it is .\")\n",
    "    \n"
   ]
  },
  {
   "cell_type": "code",
   "execution_count": null,
   "metadata": {},
   "outputs": [],
   "source": []
  },
  {
   "cell_type": "code",
   "execution_count": 40,
   "metadata": {},
   "outputs": [
    {
     "name": "stdout",
     "output_type": "stream",
     "text": [
      "3\n",
      "saurabh\n",
      "50\n",
      "raj\n",
      "30\n",
      "fatima\n",
      "50\n"
     ]
    }
   ],
   "source": [
    "nested_list=[]\n",
    "result=[]\n",
    "for _ in range(int(input())):\n",
    "    name = input()\n",
    "    score = float(input())\n",
    "    result+=[[name,score]]\n",
    "    nested_list+=[score]\n",
    "b=sorted(list(set(nested_list)))[1]\n",
    "for a,c in sorted(result):\n",
    "    if c==a:\n",
    "        print(a)\n",
    "        "
   ]
  },
  {
   "cell_type": "code",
   "execution_count": 45,
   "metadata": {},
   "outputs": [
    {
     "name": "stdout",
     "output_type": "stream",
     "text": [
      "<class 'str_iterator'>\n"
     ]
    },
    {
     "data": {
      "text/plain": [
       "'F'"
      ]
     },
     "execution_count": 45,
     "metadata": {},
     "output_type": "execute_result"
    }
   ],
   "source": [
    "str=\"KGGF\"\n",
    "\n",
    "a=iter(str)\n",
    "print(type(a))\n",
    "\n",
    "next(a)\n",
    "next(a)\n",
    "next(a) \n",
    "next(a)"
   ]
  },
  {
   "cell_type": "code",
   "execution_count": 11,
   "metadata": {},
   "outputs": [
    {
     "name": "stdout",
     "output_type": "stream",
     "text": [
      "5\n",
      "5*1=5\n",
      "5*2=10\n",
      "5*3=15\n",
      "5*4=20\n",
      "5*5=25\n",
      "5*6=30\n",
      "5*7=35\n",
      "5*8=40\n",
      "5*9=45\n",
      "5*10=50\n"
     ]
    }
   ],
   "source": [
    "def square(n):\n",
    "    a=int(input())\n",
    "    for i in range(1,n):\n",
    "        b=a*i\n",
    "        print(f\"5*{i}={b}\")\n",
    "square(11)"
   ]
  },
  {
   "cell_type": "code",
   "execution_count": 2,
   "metadata": {},
   "outputs": [
    {
     "name": "stdout",
     "output_type": "stream",
     "text": [
      "1\n",
      "4\n",
      "9\n",
      "16\n",
      "25\n",
      "36\n",
      "49\n",
      "64\n",
      "81\n",
      "100\n"
     ]
    }
   ],
   "source": [
    "+++"
   ]
  },
  {
   "cell_type": "code",
   "execution_count": 10,
   "metadata": {},
   "outputs": [
    {
     "name": "stdout",
     "output_type": "stream",
     "text": [
      "{'a': 12, 'b': 3, 'nabeel': 25}\n"
     ]
    }
   ],
   "source": [
    "var={\"a\":12,\"b\":3}\n",
    "for x,y in var.items():\n",
    "    print(x,y)"
   ]
  },
  {
   "cell_type": "code",
   "execution_count": 12,
   "metadata": {},
   "outputs": [
    {
     "name": "stdout",
     "output_type": "stream",
     "text": [
      "{'a': 12, 'b': 3, 'nabeel': 25}\n",
      "{'a': 12, 'b': 3, 'nabeel': 25, 'junaid': 100}\n"
     ]
    }
   ],
   "source": [
    "var={\"a\":12,\"b\":3}\n",
    "var[\"nabeel\"]=25\n",
    "print(var)\n",
    "\n",
    "var.update({\"junaid\":100})\n",
    "print(var)"
   ]
  },
  {
   "cell_type": "code",
   "execution_count": 1,
   "metadata": {},
   "outputs": [
    {
     "name": "stdout",
     "output_type": "stream",
     "text": [
      "5\n"
     ]
    }
   ],
   "source": [
    "def adds(a,b):\n",
    "    c=a+b\n",
    "    print(c)\n",
    "    \n",
    "adds(2,3)"
   ]
  },
  {
   "cell_type": "code",
   "execution_count": 2,
   "metadata": {},
   "outputs": [
    {
     "name": "stdout",
     "output_type": "stream",
     "text": [
      "5\n",
      "6\n",
      "11\n"
     ]
    }
   ],
   "source": [
    "a =int(input())\n",
    "b =int(input())\n",
    "\n",
    "c= a+b\n",
    "print(c)"
   ]
  },
  {
   "cell_type": "code",
   "execution_count": null,
   "metadata": {},
   "outputs": [],
   "source": []
  }
 ],
 "metadata": {
  "kernelspec": {
   "display_name": "Python 3",
   "language": "python",
   "name": "python3"
  },
  "language_info": {
   "codemirror_mode": {
    "name": "ipython",
    "version": 3
   },
   "file_extension": ".py",
   "mimetype": "text/x-python",
   "name": "python",
   "nbconvert_exporter": "python",
   "pygments_lexer": "ipython3",
   "version": "3.8.5"
  }
 },
 "nbformat": 4,
 "nbformat_minor": 4
}
