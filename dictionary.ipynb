{
 "cells": [
  {
   "cell_type": "markdown",
   "metadata": {},
   "source": [
    "# Questions On Dictionary\n"
   ]
  },
  {
   "cell_type": "markdown",
   "metadata": {},
   "source": [
    "# 1. Write a Python program to combine two dictionary adding values for common keys.\n"
   ]
  },
  {
   "cell_type": "code",
   "execution_count": 18,
   "metadata": {},
   "outputs": [
    {
     "name": "stdout",
     "output_type": "stream",
     "text": [
      "Counter({'a': 400, 'b': 400, 'd': 400, 'c': 300})\n"
     ]
    }
   ],
   "source": [
    "# d1 = {'a': 100, 'b': 200, 'c':300}\n",
    "# d2 = {'a': 300, 'b': 200, 'd':400}\n",
    "# d3=dict(d1)\n",
    "# d3.update(d2)\n",
    "# for i,j in d1.items():\n",
    "#     for x,y in d2.items():\n",
    "#         if i==x:\n",
    "#             d3[i]=j+y\n",
    "        \n",
    "# print(d3)\n",
    "\n",
    "\n",
    "from collections import Counter\n",
    "d1 = {'a': 100, 'b': 200, 'c':300}\n",
    "d2 = {'a': 300, 'b': 200, 'd':400}\n",
    "\n",
    "\n",
    "Counter=Counter(d1)+Counter(d2)\n",
    "print(Counter)"
   ]
  },
  {
   "cell_type": "markdown",
   "metadata": {},
   "source": [
    "# 2. Write a Python program to print all unique values in a dictionary."
   ]
  },
  {
   "cell_type": "code",
   "execution_count": 40,
   "metadata": {},
   "outputs": [
    {
     "name": "stdout",
     "output_type": "stream",
     "text": [
      "[{'V': 'S001'}, {'V': 'S002'}, {'VI': 'S001'}, {'VI': 'S005'}, {'VII': 'S005'}, {'V': 'S009'}, {'VIII': 'S007'}]\n",
      "{'S009', 'S002', 'S007', 'S001', 'S005'}\n"
     ]
    }
   ],
   "source": [
    "L = [{\"V\":\"S001\"}, {\"V\": \"S002\"}, {\"VI\": \"S001\"}, {\"VI\": \"S005\"}, {\"VII\":\"S005\"}, {\"V\":\"S009\"},{\"VIII\":\"S007\"}]\n",
    "print(L)\n",
    "unique = set( val for dic in L for val in dic.values())\n",
    "print(unique)\n"
   ]
  },
  {
   "cell_type": "markdown",
   "metadata": {},
   "source": [
    "# 3. Write a Python program to create and display all combinations of letters, selecting each letter from a different key in a dictionary.\n",
    "\n",
    "Expected Output:\n",
    "ac\n",
    "ad\n",
    "bc\n",
    "bd\n"
   ]
  },
  {
   "cell_type": "code",
   "execution_count": 62,
   "metadata": {},
   "outputs": [
    {
     "name": "stdout",
     "output_type": "stream",
     "text": [
      "ac\n",
      "ad\n",
      "bc\n",
      "bd\n"
     ]
    }
   ],
   "source": [
    "Sample_data={'1':['a','b'], '2':['c','d']}\n",
    "# k=0\n",
    "# for i in Sample_data.values():\n",
    "#     for j in i:\n",
    "#         if j in i:\n",
    "#             continue\n",
    "#         else:\n",
    "#             z=j+i[k]\n",
    "#         k+=1\n",
    "#     print(z)\n",
    "\n",
    "\n",
    "for i in Sample_data['1']:\n",
    "    for j in Sample_data['2']:\n",
    "        x=i+j\n",
    "        \n",
    "        print(x)\n"
   ]
  },
  {
   "cell_type": "markdown",
   "metadata": {},
   "source": [
    "# 4. Write a Python program to find the highest 3 values of corresponding keys in a dictionary."
   ]
  },
  {
   "cell_type": "code",
   "execution_count": 64,
   "metadata": {},
   "outputs": [
    {
     "ename": "SyntaxError",
     "evalue": "invalid character in identifier (<ipython-input-64-91d7711be4d5>, line 1)",
     "output_type": "error",
     "traceback": [
      "\u001b[1;36m  File \u001b[1;32m\"<ipython-input-64-91d7711be4d5>\"\u001b[1;36m, line \u001b[1;32m1\u001b[0m\n\u001b[1;33m    var={\"sau\":100, \"bilal\":200, \"shahdab\":😂,\"saud\":50}\u001b[0m\n\u001b[1;37m                                           ^\u001b[0m\n\u001b[1;31mSyntaxError\u001b[0m\u001b[1;31m:\u001b[0m invalid character in identifier\n"
     ]
    }
   ],
   "source": [
    "var={\"sau\":100, \"bilal\":200, \"shahdab\":50,\"saud\":50}\n",
    "a=1\n",
    "while (a<=3):\n",
    "    sort=sorted(var.values())[-a]\n",
    "    key=(var.get)\n",
    "    print((key),sort)\n",
    "    a+=1\n",
    "\n",
    "\n",
    "\n",
    "\n",
    "\n",
    "# # Python program to demonstrate\n",
    "# # finding 3 highest values in a Dictionary\n",
    "# from heapq import nlargest\n",
    "😂😂😂😊😊😊\n",
    "# # Initial Dictionary\n",
    "# my_dict = {'A': 67, 'B': 23, 'C': 45,\n",
    "# \t\t'D': 56, 'E': 12, 'F': 69}\n",
    "\n",
    "# print(\"Initial Dictionary:\")\n",
    "# print(my_dict, \"\\n\")\n",
    "\n",
    "# ThreeHighest = nlargest(3, my_dict, key = my_dict.get)\n",
    "\n",
    "# print(\"Dictionary with 3 highest values:\")\n",
    "# print(\"Keys: Values\")\n",
    "\n",
    "# for val in ThreeHighest:\n",
    "# \tprint(val, \":\", my_dict.get(val))\n"
   ]
  },
  {
   "cell_type": "markdown",
   "metadata": {},
   "source": [
    "# 5. Write a Python program to combine values in python list of dictionaries.\n"
   ]
  },
  {
   "cell_type": "code",
   "execution_count": 40,
   "metadata": {},
   "outputs": [
    {
     "name": "stdout",
     "output_type": "stream",
     "text": [
      "{'var1': 750, 'var2': 300}\n"
     ]
    }
   ],
   "source": [
    "Sample_data=[{'item': 'var1', 'amount': 400}, {'item': 'var2', 'amount': 300}, {'item': 'var1', 'amount': 750}]\n",
    "\n",
    "result = {}\n",
    "for i in Sample_data:\n",
    "    if i['item'] not in result:\n",
    "        result[i['item']] = i['amount']\n",
    "#         print(result)\n",
    "    else:\n",
    "        result[i['item']] += i['amount']\n",
    "#         print(result)\n",
    "print(result)\n"
   ]
  },
  {
   "cell_type": "markdown",
   "metadata": {},
   "source": [
    "\n",
    "# 6. Write a Python program to create a dictionary from a string.\n",
    "Note: Track the count of the letters from the string.\n"
   ]
  },
  {
   "cell_type": "code",
   "execution_count": 5,
   "metadata": {},
   "outputs": [
    {
     "name": "stdout",
     "output_type": "stream",
     "text": [
      "{'w': 1, '3': 1, 'r': 2, 'e': 2, 's': 1, 'o': 1, 'u': 1, 'c': 1}\n"
     ]
    }
   ],
   "source": [
    "#method 1\n",
    "# v1= 'w3resource'\n",
    "# v2=1\n",
    "# var={}\n",
    "# for i in v1:\n",
    "#     if i not in var:\n",
    "#         var[i]= v2\n",
    "# print(var)\n",
    "\n",
    "#method 2\n",
    "# v1= 'w3resource'\n",
    "# counter=1\n",
    "# var={}\n",
    "# for i in v1:\n",
    "#     if i in var:\n",
    "#         counter+=1\n",
    "#         var[i]=counter\n",
    "#     else:\n",
    "#         var[i]=counter\n",
    "# print(var)\n",
    "\n",
    "# method 3\n",
    "v1= 'w3resource'\n",
    "dict1={}\n",
    "for i in v1:\n",
    "    if i in dict1:\n",
    "        dict1[i]+=1\n",
    "    else:\n",
    "        dict1[i]=1\n",
    "print(dict1)\n",
    "\n"
   ]
  },
  {
   "cell_type": "markdown",
   "metadata": {},
   "source": [
    "# 7. Write a Python program to print a dictionary in table format."
   ]
  },
  {
   "cell_type": "code",
   "execution_count": 38,
   "metadata": {},
   "outputs": [
    {
     "name": "stdout",
     "output_type": "stream",
     "text": [
      "C1 C2 C3\n",
      "1 5 9\n",
      "2 6 10\n",
      "3 7 11\n"
     ]
    }
   ],
   "source": [
    "my_dict = {'C1':[1,2,3],'C2':[5,6,7],'C3':[9,10,11]}\n",
    "for row in zip(*([key] +(value) for key, value in sorted(my_dict.items()))):\n",
    "    print(*row)\n"
   ]
  },
  {
   "cell_type": "markdown",
   "metadata": {},
   "source": [
    "# 8. Write a Python program to count the values associated with key in a dictionary. \n"
   ]
  },
  {
   "cell_type": "code",
   "execution_count": 39,
   "metadata": {},
   "outputs": [
    {
     "name": "stdout",
     "output_type": "stream",
     "text": [
      "6\n",
      "2\n"
     ]
    }
   ],
   "source": [
    "student = [{'id': 1, 'success': True, 'name': 'Lary'},\n",
    " {'id': 2, 'success': False, 'name': 'Rabi'},\n",
    " {'id': 3, 'success': True, 'name': 'Alex'}]\n",
    "print(sum(d['id'] for d in student))\n",
    "print(sum(d['success'] for d in student))\n"
   ]
  },
  {
   "cell_type": "markdown",
   "metadata": {},
   "source": [
    "# Write a Python program to convert a list into a nested dictionary of keys. "
   ]
  },
  {
   "cell_type": "code",
   "execution_count": 54,
   "metadata": {},
   "outputs": [
    {
     "name": "stdout",
     "output_type": "stream",
     "text": [
      "{1: {2: {3: {4: {}}}}}\n"
     ]
    }
   ],
   "source": [
    "num_list = [1, 2, 3, 4]\n",
    "new_dict = current = {}\n",
    "for name in num_list:\n",
    "    current[name] = {}\n",
    "    current = current[name]\n",
    "print(new_dict)\n"
   ]
  },
  {
   "cell_type": "markdown",
   "metadata": {},
   "source": [
    "# 10. Write a Python program to sort a list alphabetically in a dictionary.\n"
   ]
  },
  {
   "cell_type": "code",
   "execution_count": 60,
   "metadata": {},
   "outputs": [
    {
     "name": "stdout",
     "output_type": "stream",
     "text": [
      "{'n1': [1, 2, 3], 'n2': [1, 2, 5], 'n3': [2, 3, 4]}\n"
     ]
    }
   ],
   "source": [
    "num = {'n1': [2, 3, 1], 'n2': [5, 1, 2], 'n3': [3, 2, 4]}\n",
    "sorted_dict = {x: sorted(y) for x, y in num.items()}\n",
    "print(sorted_dict)\n"
   ]
  },
  {
   "cell_type": "markdown",
   "metadata": {},
   "source": [
    "# 11. Write a Python program to create a dictionary from two lists without losing duplicate values.\n"
   ]
  },
  {
   "cell_type": "code",
   "execution_count": 96,
   "metadata": {},
   "outputs": [
    {
     "name": "stdout",
     "output_type": "stream",
     "text": [
      "{'Class-V': {3}, 'Class-VI': {3}, 'Class-VII': {3}, 'Class-VIII': {3}}\n"
     ]
    }
   ],
   "source": [
    "# var2= ['Class-V', 'Class-VI', 'Class-VII', 'Class-VIII']\n",
    "# var3=[1, 2, 2, 3]\n",
    "# d={}\n",
    "# val={var2[i]:var3[i] for i in range(len(var2))}\n",
    "# print(val)\n",
    "\n",
    "\n",
    "# from collections import defaultdict\n",
    "# class_list = ['Class-V', 'Class-VI', 'Class-VII', 'Class-VIII']\n",
    "# id_list = [1, 2, 2, 3]\n",
    "# temp = defaultdict(set)\n",
    "# for c, i in zip(class_list, id_list):\n",
    "#     temp[c].add(i)\n",
    "# print(temp)\n",
    "\n",
    "\n",
    "var2= ['Class-V', 'Class-VI', 'Class-VII', 'Class-VIII']\n",
    "var3=[1, 2, 2, 3]\n",
    "\n",
    "d={}\n",
    "for i in var2:\n",
    "    for j in var3:\n",
    "        d[i]={j}\n",
    "        \n",
    "        \n",
    "print(d)\n",
    "\n"
   ]
  },
  {
   "cell_type": "markdown",
   "metadata": {},
   "source": [
    "\n",
    "# 12. Write a Python program to replace dictionary values with their average.\n"
   ]
  },
  {
   "cell_type": "code",
   "execution_count": null,
   "metadata": {},
   "outputs": [],
   "source": []
  },
  {
   "cell_type": "code",
   "execution_count": null,
   "metadata": {},
   "outputs": [],
   "source": []
  },
  {
   "cell_type": "code",
   "execution_count": null,
   "metadata": {},
   "outputs": [],
   "source": []
  },
  {
   "cell_type": "code",
   "execution_count": null,
   "metadata": {},
   "outputs": [],
   "source": []
  },
  {
   "cell_type": "code",
   "execution_count": null,
   "metadata": {},
   "outputs": [],
   "source": []
  },
  {
   "cell_type": "code",
   "execution_count": null,
   "metadata": {},
   "outputs": [],
   "source": []
  },
  {
   "cell_type": "code",
   "execution_count": null,
   "metadata": {},
   "outputs": [],
   "source": []
  },
  {
   "cell_type": "code",
   "execution_count": null,
   "metadata": {},
   "outputs": [],
   "source": []
  },
  {
   "cell_type": "code",
   "execution_count": null,
   "metadata": {},
   "outputs": [],
   "source": []
  },
  {
   "cell_type": "code",
   "execution_count": null,
   "metadata": {},
   "outputs": [],
   "source": []
  },
  {
   "cell_type": "code",
   "execution_count": null,
   "metadata": {},
   "outputs": [],
   "source": []
  },
  {
   "cell_type": "code",
   "execution_count": null,
   "metadata": {},
   "outputs": [],
   "source": []
  },
  {
   "cell_type": "code",
   "execution_count": null,
   "metadata": {},
   "outputs": [],
   "source": []
  },
  {
   "cell_type": "code",
   "execution_count": null,
   "metadata": {},
   "outputs": [],
   "source": []
  },
  {
   "cell_type": "code",
   "execution_count": null,
   "metadata": {},
   "outputs": [],
   "source": []
  },
  {
   "cell_type": "code",
   "execution_count": null,
   "metadata": {},
   "outputs": [],
   "source": []
  },
  {
   "cell_type": "code",
   "execution_count": null,
   "metadata": {},
   "outputs": [],
   "source": []
  },
  {
   "cell_type": "code",
   "execution_count": null,
   "metadata": {},
   "outputs": [],
   "source": []
  },
  {
   "cell_type": "code",
   "execution_count": null,
   "metadata": {},
   "outputs": [],
   "source": []
  },
  {
   "cell_type": "code",
   "execution_count": null,
   "metadata": {},
   "outputs": [],
   "source": []
  },
  {
   "cell_type": "code",
   "execution_count": null,
   "metadata": {},
   "outputs": [],
   "source": []
  },
  {
   "cell_type": "code",
   "execution_count": null,
   "metadata": {},
   "outputs": [],
   "source": []
  }
 ],
 "metadata": {
  "kernelspec": {
   "display_name": "Python 3",
   "language": "python",
   "name": "python3"
  },
  "language_info": {
   "codemirror_mode": {
    "name": "ipython",
    "version": 3
   },
   "file_extension": ".py",
   "mimetype": "text/x-python",
   "name": "python",
   "nbconvert_exporter": "python",
   "pygments_lexer": "ipython3",
   "version": "3.8.5"
  }
 },
 "nbformat": 4,
 "nbformat_minor": 4
}
